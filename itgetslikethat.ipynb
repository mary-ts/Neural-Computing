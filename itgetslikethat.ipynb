{
  "cells": [
    {
      "cell_type": "markdown",
      "metadata": {
        "id": "view-in-github",
        "colab_type": "text"
      },
      "source": [
        "<a href=\"https://colab.research.google.com/github/mary-ts/Neural-Computing/blob/tito/itgetslikethat.ipynb\" target=\"_parent\"><img src=\"https://colab.research.google.com/assets/colab-badge.svg\" alt=\"Open In Colab\"/></a>"
      ]
    },
    {
      "cell_type": "markdown",
      "metadata": {
        "id": "pVhvb2zpFJjj"
      },
      "source": [
        "Imports"
      ]
    },
    {
      "cell_type": "code",
      "execution_count": 2,
      "metadata": {
        "id": "oP5Qk3nRrJ8W",
        "colab": {
          "base_uri": "https://localhost:8080/"
        },
        "outputId": "a348893d-05c6-4dfb-b0f3-1e0662319140"
      },
      "outputs": [
        {
          "output_type": "stream",
          "name": "stdout",
          "text": [
            "Drive already mounted at /content/drive; to attempt to forcibly remount, call drive.mount(\"/content/drive\", force_remount=True).\n"
          ]
        }
      ],
      "source": [
        "from google.colab import drive\n",
        "drive.mount('/content/drive')"
      ]
    },
    {
      "cell_type": "code",
      "execution_count": 33,
      "metadata": {
        "id": "0UtFlsCx3p7v"
      },
      "outputs": [],
      "source": [
        "import numpy as np\n",
        "import pandas as pd\n",
        "import matplotlib.pyplot as plt\n",
        "import tensorflow as tf\n",
        "import keras\n",
        "import keras.layers as layers\n",
        "from keras import Sequential\n",
        "import keras.models\n",
        "from keras.layers import *\n",
        "from keras.models import * \n",
        "from keras import optimizers, applications\n",
        "from keras.preprocessing import image\n",
        "from keras.callbacks import ModelCheckpoint, EarlyStopping\n",
        "from sklearn.model_selection import KFold\n",
        "from sklearn.metrics import confusion_matrix, classification_report"
      ]
    },
    {
      "cell_type": "markdown",
      "metadata": {
        "id": "TkKj_nmXFMVx"
      },
      "source": [
        "Dataset Paths"
      ]
    },
    {
      "cell_type": "code",
      "execution_count": 52,
      "metadata": {
        "id": "wLUXspsC3r59"
      },
      "outputs": [],
      "source": [
        "train_path = \"/content/drive/MyDrive/archive (1)/train/train\"\n",
        "test_path = \"/content/drive/MyDrive/archive (1)/test/test\"\n",
        "\n",
        "epochs = 5\n",
        "batch_size = 32\n",
        "num_of_train_samples = 16854\n",
        "num_of_test_samples = 5641"
      ]
    },
    {
      "cell_type": "markdown",
      "metadata": {
        "id": "K3FzUSSnFPBX"
      },
      "source": [
        "Creating training and test data"
      ]
    },
    {
      "cell_type": "code",
      "execution_count": 28,
      "metadata": {
        "id": "2BnRGnO1_Gid"
      },
      "outputs": [],
      "source": [
        "train_datagen = image.ImageDataGenerator(\n",
        "    rotation_range=15,\n",
        "    shear_range=0.2,\n",
        "    zoom_range=0.2,\n",
        "    horizontal_flip=True,\n",
        "    fill_mode='nearest',\n",
        "    width_shift_range=0.1,\n",
        "    height_shift_range=0.1,\n",
        "    validation_split = 0.2\n",
        ")\n",
        "test_datagen= image.ImageDataGenerator(    \n",
        "    rotation_range=15,\n",
        "    shear_range=0.2,\n",
        "    zoom_range=0.2,\n",
        "    horizontal_flip=True,\n",
        "    fill_mode='nearest',\n",
        "    width_shift_range=0.1,\n",
        "    height_shift_range=0.1)"
      ]
    },
    {
      "cell_type": "markdown",
      "metadata": {
        "id": "mLIPKlW7FT4b"
      },
      "source": [
        "Importing data into generators"
      ]
    },
    {
      "cell_type": "code",
      "execution_count": 29,
      "metadata": {
        "colab": {
          "base_uri": "https://localhost:8080/"
        },
        "id": "ohGl3H5QC1KJ",
        "outputId": "c0911702-d7b2-476f-8720-1479421b406b"
      },
      "outputs": [
        {
          "output_type": "stream",
          "name": "stdout",
          "text": [
            "Found 16854 images belonging to 33 classes.\n",
            "Found 0 images belonging to 0 classes.\n"
          ]
        }
      ],
      "source": [
        "train_generator = train_datagen.flow_from_directory(\n",
        "    train_path,\n",
        "    target_size = (299,299),\n",
        "    batch_size = 32,\n",
        "    class_mode = 'categorical', \n",
        "    shuffle=True)\n",
        "\n",
        "test_generator = test_datagen.flow_from_directory(\n",
        "    test_path,\n",
        "    target_size = (299,299),\n",
        "    batch_size = 32,\n",
        "    shuffle=True,\n",
        "    class_mode = 'categorical')"
      ]
    },
    {
      "cell_type": "code",
      "source": [
        "train_data = pd.read_csv('/content/drive/MyDrive/archive (1)/sampleSubmission.csv')\n",
        "Y = train_data[['label']]\n",
        "\n",
        "kf = KFold(n_splits = 5)"
      ],
      "metadata": {
        "id": "qj7JM5vPgVp1"
      },
      "execution_count": 34,
      "outputs": []
    },
    {
      "cell_type": "markdown",
      "metadata": {
        "id": "zx24OGvzOMqY"
      },
      "source": [
        "Xception Model"
      ]
    },
    {
      "cell_type": "code",
      "execution_count": 53,
      "metadata": {
        "id": "zvYME2sPOLnB",
        "colab": {
          "base_uri": "https://localhost:8080/"
        },
        "outputId": "dfd4b198-52e0-4824-c6cf-3b30c74ad5aa"
      },
      "outputs": [
        {
          "output_type": "stream",
          "name": "stdout",
          "text": [
            "Model: \"model_4\"\n",
            "__________________________________________________________________________________________________\n",
            " Layer (type)                   Output Shape         Param #     Connected to                     \n",
            "==================================================================================================\n",
            " input_5 (InputLayer)           [(None, 299, 299, 3  0           []                               \n",
            "                                )]                                                                \n",
            "                                                                                                  \n",
            " block1_conv1 (Conv2D)          (None, 149, 149, 32  864         ['input_5[0][0]']                \n",
            "                                )                                                                 \n",
            "                                                                                                  \n",
            " block1_conv1_bn (BatchNormaliz  (None, 149, 149, 32  128        ['block1_conv1[0][0]']           \n",
            " ation)                         )                                                                 \n",
            "                                                                                                  \n",
            " block1_conv1_act (Activation)  (None, 149, 149, 32  0           ['block1_conv1_bn[0][0]']        \n",
            "                                )                                                                 \n",
            "                                                                                                  \n",
            " block1_conv2 (Conv2D)          (None, 147, 147, 64  18432       ['block1_conv1_act[0][0]']       \n",
            "                                )                                                                 \n",
            "                                                                                                  \n",
            " block1_conv2_bn (BatchNormaliz  (None, 147, 147, 64  256        ['block1_conv2[0][0]']           \n",
            " ation)                         )                                                                 \n",
            "                                                                                                  \n",
            " block1_conv2_act (Activation)  (None, 147, 147, 64  0           ['block1_conv2_bn[0][0]']        \n",
            "                                )                                                                 \n",
            "                                                                                                  \n",
            " block2_sepconv1 (SeparableConv  (None, 147, 147, 12  8768       ['block1_conv2_act[0][0]']       \n",
            " 2D)                            8)                                                                \n",
            "                                                                                                  \n",
            " block2_sepconv1_bn (BatchNorma  (None, 147, 147, 12  512        ['block2_sepconv1[0][0]']        \n",
            " lization)                      8)                                                                \n",
            "                                                                                                  \n",
            " block2_sepconv2_act (Activatio  (None, 147, 147, 12  0          ['block2_sepconv1_bn[0][0]']     \n",
            " n)                             8)                                                                \n",
            "                                                                                                  \n",
            " block2_sepconv2 (SeparableConv  (None, 147, 147, 12  17536      ['block2_sepconv2_act[0][0]']    \n",
            " 2D)                            8)                                                                \n",
            "                                                                                                  \n",
            " block2_sepconv2_bn (BatchNorma  (None, 147, 147, 12  512        ['block2_sepconv2[0][0]']        \n",
            " lization)                      8)                                                                \n",
            "                                                                                                  \n",
            " conv2d_16 (Conv2D)             (None, 74, 74, 128)  8192        ['block1_conv2_act[0][0]']       \n",
            "                                                                                                  \n",
            " block2_pool (MaxPooling2D)     (None, 74, 74, 128)  0           ['block2_sepconv2_bn[0][0]']     \n",
            "                                                                                                  \n",
            " batch_normalization_16 (BatchN  (None, 74, 74, 128)  512        ['conv2d_16[0][0]']              \n",
            " ormalization)                                                                                    \n",
            "                                                                                                  \n",
            " add_48 (Add)                   (None, 74, 74, 128)  0           ['block2_pool[0][0]',            \n",
            "                                                                  'batch_normalization_16[0][0]'] \n",
            "                                                                                                  \n",
            " block3_sepconv1_act (Activatio  (None, 74, 74, 128)  0          ['add_48[0][0]']                 \n",
            " n)                                                                                               \n",
            "                                                                                                  \n",
            " block3_sepconv1 (SeparableConv  (None, 74, 74, 256)  33920      ['block3_sepconv1_act[0][0]']    \n",
            " 2D)                                                                                              \n",
            "                                                                                                  \n",
            " block3_sepconv1_bn (BatchNorma  (None, 74, 74, 256)  1024       ['block3_sepconv1[0][0]']        \n",
            " lization)                                                                                        \n",
            "                                                                                                  \n",
            " block3_sepconv2_act (Activatio  (None, 74, 74, 256)  0          ['block3_sepconv1_bn[0][0]']     \n",
            " n)                                                                                               \n",
            "                                                                                                  \n",
            " block3_sepconv2 (SeparableConv  (None, 74, 74, 256)  67840      ['block3_sepconv2_act[0][0]']    \n",
            " 2D)                                                                                              \n",
            "                                                                                                  \n",
            " block3_sepconv2_bn (BatchNorma  (None, 74, 74, 256)  1024       ['block3_sepconv2[0][0]']        \n",
            " lization)                                                                                        \n",
            "                                                                                                  \n",
            " conv2d_17 (Conv2D)             (None, 37, 37, 256)  32768       ['add_48[0][0]']                 \n",
            "                                                                                                  \n",
            " block3_pool (MaxPooling2D)     (None, 37, 37, 256)  0           ['block3_sepconv2_bn[0][0]']     \n",
            "                                                                                                  \n",
            " batch_normalization_17 (BatchN  (None, 37, 37, 256)  1024       ['conv2d_17[0][0]']              \n",
            " ormalization)                                                                                    \n",
            "                                                                                                  \n",
            " add_49 (Add)                   (None, 37, 37, 256)  0           ['block3_pool[0][0]',            \n",
            "                                                                  'batch_normalization_17[0][0]'] \n",
            "                                                                                                  \n",
            " block4_sepconv1_act (Activatio  (None, 37, 37, 256)  0          ['add_49[0][0]']                 \n",
            " n)                                                                                               \n",
            "                                                                                                  \n",
            " block4_sepconv1 (SeparableConv  (None, 37, 37, 728)  188672     ['block4_sepconv1_act[0][0]']    \n",
            " 2D)                                                                                              \n",
            "                                                                                                  \n",
            " block4_sepconv1_bn (BatchNorma  (None, 37, 37, 728)  2912       ['block4_sepconv1[0][0]']        \n",
            " lization)                                                                                        \n",
            "                                                                                                  \n",
            " block4_sepconv2_act (Activatio  (None, 37, 37, 728)  0          ['block4_sepconv1_bn[0][0]']     \n",
            " n)                                                                                               \n",
            "                                                                                                  \n",
            " block4_sepconv2 (SeparableConv  (None, 37, 37, 728)  536536     ['block4_sepconv2_act[0][0]']    \n",
            " 2D)                                                                                              \n",
            "                                                                                                  \n",
            " block4_sepconv2_bn (BatchNorma  (None, 37, 37, 728)  2912       ['block4_sepconv2[0][0]']        \n",
            " lization)                                                                                        \n",
            "                                                                                                  \n",
            " conv2d_18 (Conv2D)             (None, 19, 19, 728)  186368      ['add_49[0][0]']                 \n",
            "                                                                                                  \n",
            " block4_pool (MaxPooling2D)     (None, 19, 19, 728)  0           ['block4_sepconv2_bn[0][0]']     \n",
            "                                                                                                  \n",
            " batch_normalization_18 (BatchN  (None, 19, 19, 728)  2912       ['conv2d_18[0][0]']              \n",
            " ormalization)                                                                                    \n",
            "                                                                                                  \n",
            " add_50 (Add)                   (None, 19, 19, 728)  0           ['block4_pool[0][0]',            \n",
            "                                                                  'batch_normalization_18[0][0]'] \n",
            "                                                                                                  \n",
            " block5_sepconv1_act (Activatio  (None, 19, 19, 728)  0          ['add_50[0][0]']                 \n",
            " n)                                                                                               \n",
            "                                                                                                  \n",
            " block5_sepconv1 (SeparableConv  (None, 19, 19, 728)  536536     ['block5_sepconv1_act[0][0]']    \n",
            " 2D)                                                                                              \n",
            "                                                                                                  \n",
            " block5_sepconv1_bn (BatchNorma  (None, 19, 19, 728)  2912       ['block5_sepconv1[0][0]']        \n",
            " lization)                                                                                        \n",
            "                                                                                                  \n",
            " block5_sepconv2_act (Activatio  (None, 19, 19, 728)  0          ['block5_sepconv1_bn[0][0]']     \n",
            " n)                                                                                               \n",
            "                                                                                                  \n",
            " block5_sepconv2 (SeparableConv  (None, 19, 19, 728)  536536     ['block5_sepconv2_act[0][0]']    \n",
            " 2D)                                                                                              \n",
            "                                                                                                  \n",
            " block5_sepconv2_bn (BatchNorma  (None, 19, 19, 728)  2912       ['block5_sepconv2[0][0]']        \n",
            " lization)                                                                                        \n",
            "                                                                                                  \n",
            " block5_sepconv3_act (Activatio  (None, 19, 19, 728)  0          ['block5_sepconv2_bn[0][0]']     \n",
            " n)                                                                                               \n",
            "                                                                                                  \n",
            " block5_sepconv3 (SeparableConv  (None, 19, 19, 728)  536536     ['block5_sepconv3_act[0][0]']    \n",
            " 2D)                                                                                              \n",
            "                                                                                                  \n",
            " block5_sepconv3_bn (BatchNorma  (None, 19, 19, 728)  2912       ['block5_sepconv3[0][0]']        \n",
            " lization)                                                                                        \n",
            "                                                                                                  \n",
            " add_51 (Add)                   (None, 19, 19, 728)  0           ['block5_sepconv3_bn[0][0]',     \n",
            "                                                                  'add_50[0][0]']                 \n",
            "                                                                                                  \n",
            " block6_sepconv1_act (Activatio  (None, 19, 19, 728)  0          ['add_51[0][0]']                 \n",
            " n)                                                                                               \n",
            "                                                                                                  \n",
            " block6_sepconv1 (SeparableConv  (None, 19, 19, 728)  536536     ['block6_sepconv1_act[0][0]']    \n",
            " 2D)                                                                                              \n",
            "                                                                                                  \n",
            " block6_sepconv1_bn (BatchNorma  (None, 19, 19, 728)  2912       ['block6_sepconv1[0][0]']        \n",
            " lization)                                                                                        \n",
            "                                                                                                  \n",
            " block6_sepconv2_act (Activatio  (None, 19, 19, 728)  0          ['block6_sepconv1_bn[0][0]']     \n",
            " n)                                                                                               \n",
            "                                                                                                  \n",
            " block6_sepconv2 (SeparableConv  (None, 19, 19, 728)  536536     ['block6_sepconv2_act[0][0]']    \n",
            " 2D)                                                                                              \n",
            "                                                                                                  \n",
            " block6_sepconv2_bn (BatchNorma  (None, 19, 19, 728)  2912       ['block6_sepconv2[0][0]']        \n",
            " lization)                                                                                        \n",
            "                                                                                                  \n",
            " block6_sepconv3_act (Activatio  (None, 19, 19, 728)  0          ['block6_sepconv2_bn[0][0]']     \n",
            " n)                                                                                               \n",
            "                                                                                                  \n",
            " block6_sepconv3 (SeparableConv  (None, 19, 19, 728)  536536     ['block6_sepconv3_act[0][0]']    \n",
            " 2D)                                                                                              \n",
            "                                                                                                  \n",
            " block6_sepconv3_bn (BatchNorma  (None, 19, 19, 728)  2912       ['block6_sepconv3[0][0]']        \n",
            " lization)                                                                                        \n",
            "                                                                                                  \n",
            " add_52 (Add)                   (None, 19, 19, 728)  0           ['block6_sepconv3_bn[0][0]',     \n",
            "                                                                  'add_51[0][0]']                 \n",
            "                                                                                                  \n",
            " block7_sepconv1_act (Activatio  (None, 19, 19, 728)  0          ['add_52[0][0]']                 \n",
            " n)                                                                                               \n",
            "                                                                                                  \n",
            " block7_sepconv1 (SeparableConv  (None, 19, 19, 728)  536536     ['block7_sepconv1_act[0][0]']    \n",
            " 2D)                                                                                              \n",
            "                                                                                                  \n",
            " block7_sepconv1_bn (BatchNorma  (None, 19, 19, 728)  2912       ['block7_sepconv1[0][0]']        \n",
            " lization)                                                                                        \n",
            "                                                                                                  \n",
            " block7_sepconv2_act (Activatio  (None, 19, 19, 728)  0          ['block7_sepconv1_bn[0][0]']     \n",
            " n)                                                                                               \n",
            "                                                                                                  \n",
            " block7_sepconv2 (SeparableConv  (None, 19, 19, 728)  536536     ['block7_sepconv2_act[0][0]']    \n",
            " 2D)                                                                                              \n",
            "                                                                                                  \n",
            " block7_sepconv2_bn (BatchNorma  (None, 19, 19, 728)  2912       ['block7_sepconv2[0][0]']        \n",
            " lization)                                                                                        \n",
            "                                                                                                  \n",
            " block7_sepconv3_act (Activatio  (None, 19, 19, 728)  0          ['block7_sepconv2_bn[0][0]']     \n",
            " n)                                                                                               \n",
            "                                                                                                  \n",
            " block7_sepconv3 (SeparableConv  (None, 19, 19, 728)  536536     ['block7_sepconv3_act[0][0]']    \n",
            " 2D)                                                                                              \n",
            "                                                                                                  \n",
            " block7_sepconv3_bn (BatchNorma  (None, 19, 19, 728)  2912       ['block7_sepconv3[0][0]']        \n",
            " lization)                                                                                        \n",
            "                                                                                                  \n",
            " add_53 (Add)                   (None, 19, 19, 728)  0           ['block7_sepconv3_bn[0][0]',     \n",
            "                                                                  'add_52[0][0]']                 \n",
            "                                                                                                  \n",
            " block8_sepconv1_act (Activatio  (None, 19, 19, 728)  0          ['add_53[0][0]']                 \n",
            " n)                                                                                               \n",
            "                                                                                                  \n",
            " block8_sepconv1 (SeparableConv  (None, 19, 19, 728)  536536     ['block8_sepconv1_act[0][0]']    \n",
            " 2D)                                                                                              \n",
            "                                                                                                  \n",
            " block8_sepconv1_bn (BatchNorma  (None, 19, 19, 728)  2912       ['block8_sepconv1[0][0]']        \n",
            " lization)                                                                                        \n",
            "                                                                                                  \n",
            " block8_sepconv2_act (Activatio  (None, 19, 19, 728)  0          ['block8_sepconv1_bn[0][0]']     \n",
            " n)                                                                                               \n",
            "                                                                                                  \n",
            " block8_sepconv2 (SeparableConv  (None, 19, 19, 728)  536536     ['block8_sepconv2_act[0][0]']    \n",
            " 2D)                                                                                              \n",
            "                                                                                                  \n",
            " block8_sepconv2_bn (BatchNorma  (None, 19, 19, 728)  2912       ['block8_sepconv2[0][0]']        \n",
            " lization)                                                                                        \n",
            "                                                                                                  \n",
            " block8_sepconv3_act (Activatio  (None, 19, 19, 728)  0          ['block8_sepconv2_bn[0][0]']     \n",
            " n)                                                                                               \n",
            "                                                                                                  \n",
            " block8_sepconv3 (SeparableConv  (None, 19, 19, 728)  536536     ['block8_sepconv3_act[0][0]']    \n",
            " 2D)                                                                                              \n",
            "                                                                                                  \n",
            " block8_sepconv3_bn (BatchNorma  (None, 19, 19, 728)  2912       ['block8_sepconv3[0][0]']        \n",
            " lization)                                                                                        \n",
            "                                                                                                  \n",
            " add_54 (Add)                   (None, 19, 19, 728)  0           ['block8_sepconv3_bn[0][0]',     \n",
            "                                                                  'add_53[0][0]']                 \n",
            "                                                                                                  \n",
            " block9_sepconv1_act (Activatio  (None, 19, 19, 728)  0          ['add_54[0][0]']                 \n",
            " n)                                                                                               \n",
            "                                                                                                  \n",
            " block9_sepconv1 (SeparableConv  (None, 19, 19, 728)  536536     ['block9_sepconv1_act[0][0]']    \n",
            " 2D)                                                                                              \n",
            "                                                                                                  \n",
            " block9_sepconv1_bn (BatchNorma  (None, 19, 19, 728)  2912       ['block9_sepconv1[0][0]']        \n",
            " lization)                                                                                        \n",
            "                                                                                                  \n",
            " block9_sepconv2_act (Activatio  (None, 19, 19, 728)  0          ['block9_sepconv1_bn[0][0]']     \n",
            " n)                                                                                               \n",
            "                                                                                                  \n",
            " block9_sepconv2 (SeparableConv  (None, 19, 19, 728)  536536     ['block9_sepconv2_act[0][0]']    \n",
            " 2D)                                                                                              \n",
            "                                                                                                  \n",
            " block9_sepconv2_bn (BatchNorma  (None, 19, 19, 728)  2912       ['block9_sepconv2[0][0]']        \n",
            " lization)                                                                                        \n",
            "                                                                                                  \n",
            " block9_sepconv3_act (Activatio  (None, 19, 19, 728)  0          ['block9_sepconv2_bn[0][0]']     \n",
            " n)                                                                                               \n",
            "                                                                                                  \n",
            " block9_sepconv3 (SeparableConv  (None, 19, 19, 728)  536536     ['block9_sepconv3_act[0][0]']    \n",
            " 2D)                                                                                              \n",
            "                                                                                                  \n",
            " block9_sepconv3_bn (BatchNorma  (None, 19, 19, 728)  2912       ['block9_sepconv3[0][0]']        \n",
            " lization)                                                                                        \n",
            "                                                                                                  \n",
            " add_55 (Add)                   (None, 19, 19, 728)  0           ['block9_sepconv3_bn[0][0]',     \n",
            "                                                                  'add_54[0][0]']                 \n",
            "                                                                                                  \n",
            " block10_sepconv1_act (Activati  (None, 19, 19, 728)  0          ['add_55[0][0]']                 \n",
            " on)                                                                                              \n",
            "                                                                                                  \n",
            " block10_sepconv1 (SeparableCon  (None, 19, 19, 728)  536536     ['block10_sepconv1_act[0][0]']   \n",
            " v2D)                                                                                             \n",
            "                                                                                                  \n",
            " block10_sepconv1_bn (BatchNorm  (None, 19, 19, 728)  2912       ['block10_sepconv1[0][0]']       \n",
            " alization)                                                                                       \n",
            "                                                                                                  \n",
            " block10_sepconv2_act (Activati  (None, 19, 19, 728)  0          ['block10_sepconv1_bn[0][0]']    \n",
            " on)                                                                                              \n",
            "                                                                                                  \n",
            " block10_sepconv2 (SeparableCon  (None, 19, 19, 728)  536536     ['block10_sepconv2_act[0][0]']   \n",
            " v2D)                                                                                             \n",
            "                                                                                                  \n",
            " block10_sepconv2_bn (BatchNorm  (None, 19, 19, 728)  2912       ['block10_sepconv2[0][0]']       \n",
            " alization)                                                                                       \n",
            "                                                                                                  \n",
            " block10_sepconv3_act (Activati  (None, 19, 19, 728)  0          ['block10_sepconv2_bn[0][0]']    \n",
            " on)                                                                                              \n",
            "                                                                                                  \n",
            " block10_sepconv3 (SeparableCon  (None, 19, 19, 728)  536536     ['block10_sepconv3_act[0][0]']   \n",
            " v2D)                                                                                             \n",
            "                                                                                                  \n",
            " block10_sepconv3_bn (BatchNorm  (None, 19, 19, 728)  2912       ['block10_sepconv3[0][0]']       \n",
            " alization)                                                                                       \n",
            "                                                                                                  \n",
            " add_56 (Add)                   (None, 19, 19, 728)  0           ['block10_sepconv3_bn[0][0]',    \n",
            "                                                                  'add_55[0][0]']                 \n",
            "                                                                                                  \n",
            " block11_sepconv1_act (Activati  (None, 19, 19, 728)  0          ['add_56[0][0]']                 \n",
            " on)                                                                                              \n",
            "                                                                                                  \n",
            " block11_sepconv1 (SeparableCon  (None, 19, 19, 728)  536536     ['block11_sepconv1_act[0][0]']   \n",
            " v2D)                                                                                             \n",
            "                                                                                                  \n",
            " block11_sepconv1_bn (BatchNorm  (None, 19, 19, 728)  2912       ['block11_sepconv1[0][0]']       \n",
            " alization)                                                                                       \n",
            "                                                                                                  \n",
            " block11_sepconv2_act (Activati  (None, 19, 19, 728)  0          ['block11_sepconv1_bn[0][0]']    \n",
            " on)                                                                                              \n",
            "                                                                                                  \n",
            " block11_sepconv2 (SeparableCon  (None, 19, 19, 728)  536536     ['block11_sepconv2_act[0][0]']   \n",
            " v2D)                                                                                             \n",
            "                                                                                                  \n",
            " block11_sepconv2_bn (BatchNorm  (None, 19, 19, 728)  2912       ['block11_sepconv2[0][0]']       \n",
            " alization)                                                                                       \n",
            "                                                                                                  \n",
            " block11_sepconv3_act (Activati  (None, 19, 19, 728)  0          ['block11_sepconv2_bn[0][0]']    \n",
            " on)                                                                                              \n",
            "                                                                                                  \n",
            " block11_sepconv3 (SeparableCon  (None, 19, 19, 728)  536536     ['block11_sepconv3_act[0][0]']   \n",
            " v2D)                                                                                             \n",
            "                                                                                                  \n",
            " block11_sepconv3_bn (BatchNorm  (None, 19, 19, 728)  2912       ['block11_sepconv3[0][0]']       \n",
            " alization)                                                                                       \n",
            "                                                                                                  \n",
            " add_57 (Add)                   (None, 19, 19, 728)  0           ['block11_sepconv3_bn[0][0]',    \n",
            "                                                                  'add_56[0][0]']                 \n",
            "                                                                                                  \n",
            " block12_sepconv1_act (Activati  (None, 19, 19, 728)  0          ['add_57[0][0]']                 \n",
            " on)                                                                                              \n",
            "                                                                                                  \n",
            " block12_sepconv1 (SeparableCon  (None, 19, 19, 728)  536536     ['block12_sepconv1_act[0][0]']   \n",
            " v2D)                                                                                             \n",
            "                                                                                                  \n",
            " block12_sepconv1_bn (BatchNorm  (None, 19, 19, 728)  2912       ['block12_sepconv1[0][0]']       \n",
            " alization)                                                                                       \n",
            "                                                                                                  \n",
            " block12_sepconv2_act (Activati  (None, 19, 19, 728)  0          ['block12_sepconv1_bn[0][0]']    \n",
            " on)                                                                                              \n",
            "                                                                                                  \n",
            " block12_sepconv2 (SeparableCon  (None, 19, 19, 728)  536536     ['block12_sepconv2_act[0][0]']   \n",
            " v2D)                                                                                             \n",
            "                                                                                                  \n",
            " block12_sepconv2_bn (BatchNorm  (None, 19, 19, 728)  2912       ['block12_sepconv2[0][0]']       \n",
            " alization)                                                                                       \n",
            "                                                                                                  \n",
            " block12_sepconv3_act (Activati  (None, 19, 19, 728)  0          ['block12_sepconv2_bn[0][0]']    \n",
            " on)                                                                                              \n",
            "                                                                                                  \n",
            " block12_sepconv3 (SeparableCon  (None, 19, 19, 728)  536536     ['block12_sepconv3_act[0][0]']   \n",
            " v2D)                                                                                             \n",
            "                                                                                                  \n",
            " block12_sepconv3_bn (BatchNorm  (None, 19, 19, 728)  2912       ['block12_sepconv3[0][0]']       \n",
            " alization)                                                                                       \n",
            "                                                                                                  \n",
            " add_58 (Add)                   (None, 19, 19, 728)  0           ['block12_sepconv3_bn[0][0]',    \n",
            "                                                                  'add_57[0][0]']                 \n",
            "                                                                                                  \n",
            " block13_sepconv1_act (Activati  (None, 19, 19, 728)  0          ['add_58[0][0]']                 \n",
            " on)                                                                                              \n",
            "                                                                                                  \n",
            " block13_sepconv1 (SeparableCon  (None, 19, 19, 728)  536536     ['block13_sepconv1_act[0][0]']   \n",
            " v2D)                                                                                             \n",
            "                                                                                                  \n",
            " block13_sepconv1_bn (BatchNorm  (None, 19, 19, 728)  2912       ['block13_sepconv1[0][0]']       \n",
            " alization)                                                                                       \n",
            "                                                                                                  \n",
            " block13_sepconv2_act (Activati  (None, 19, 19, 728)  0          ['block13_sepconv1_bn[0][0]']    \n",
            " on)                                                                                              \n",
            "                                                                                                  \n",
            " block13_sepconv2 (SeparableCon  (None, 19, 19, 1024  752024     ['block13_sepconv2_act[0][0]']   \n",
            " v2D)                           )                                                                 \n",
            "                                                                                                  \n",
            " block13_sepconv2_bn (BatchNorm  (None, 19, 19, 1024  4096       ['block13_sepconv2[0][0]']       \n",
            " alization)                     )                                                                 \n",
            "                                                                                                  \n",
            " conv2d_19 (Conv2D)             (None, 10, 10, 1024  745472      ['add_58[0][0]']                 \n",
            "                                )                                                                 \n",
            "                                                                                                  \n",
            " block13_pool (MaxPooling2D)    (None, 10, 10, 1024  0           ['block13_sepconv2_bn[0][0]']    \n",
            "                                )                                                                 \n",
            "                                                                                                  \n",
            " batch_normalization_19 (BatchN  (None, 10, 10, 1024  4096       ['conv2d_19[0][0]']              \n",
            " ormalization)                  )                                                                 \n",
            "                                                                                                  \n",
            " add_59 (Add)                   (None, 10, 10, 1024  0           ['block13_pool[0][0]',           \n",
            "                                )                                 'batch_normalization_19[0][0]'] \n",
            "                                                                                                  \n",
            " block14_sepconv1 (SeparableCon  (None, 10, 10, 1536  1582080    ['add_59[0][0]']                 \n",
            " v2D)                           )                                                                 \n",
            "                                                                                                  \n",
            " block14_sepconv1_bn (BatchNorm  (None, 10, 10, 1536  6144       ['block14_sepconv1[0][0]']       \n",
            " alization)                     )                                                                 \n",
            "                                                                                                  \n",
            " block14_sepconv1_act (Activati  (None, 10, 10, 1536  0          ['block14_sepconv1_bn[0][0]']    \n",
            " on)                            )                                                                 \n",
            "                                                                                                  \n",
            " block14_sepconv2 (SeparableCon  (None, 10, 10, 2048  3159552    ['block14_sepconv1_act[0][0]']   \n",
            " v2D)                           )                                                                 \n",
            "                                                                                                  \n",
            " block14_sepconv2_bn (BatchNorm  (None, 10, 10, 2048  8192       ['block14_sepconv2[0][0]']       \n",
            " alization)                     )                                                                 \n",
            "                                                                                                  \n",
            " block14_sepconv2_act (Activati  (None, 10, 10, 2048  0          ['block14_sepconv2_bn[0][0]']    \n",
            " on)                            )                                                                 \n",
            "                                                                                                  \n",
            " flatten_4 (Flatten)            (None, 204800)       0           ['block14_sepconv2_act[0][0]']   \n",
            "                                                                                                  \n",
            " dense_8 (Dense)                (None, 1024)         209716224   ['flatten_4[0][0]']              \n",
            "                                                                                                  \n",
            " dense_9 (Dense)                (None, 33)           33825       ['dense_8[0][0]']                \n",
            "                                                                                                  \n",
            "==================================================================================================\n",
            "Total params: 230,611,529\n",
            "Trainable params: 212,916,769\n",
            "Non-trainable params: 17,694,760\n",
            "__________________________________________________________________________________________________\n"
          ]
        }
      ],
      "source": [
        "model = applications.Xception(weights='imagenet', \n",
        "                              include_top=False, \n",
        "                              input_shape=(299, 299, 3))\n",
        "\n",
        "for layer in model.layers[:-5]:\n",
        "    layer.trainable = False\n",
        "\n",
        "x = model.output\n",
        "x = Flatten()(x)\n",
        "x = Dense(1024, activation=\"relu\")(x)\n",
        "#x = Dropout(.3)(x)\n",
        "predictions = Dense(33, activation=\"softmax\")(x)\n",
        "model_final = Model(model.input, predictions)\n",
        "\n",
        "model_final.compile(optimizers.RMSprop(learning_rate=0.0001, decay=1e-5),loss='categorical_crossentropy',metrics=['accuracy'])\n",
        "model_final.summary()"
      ]
    },
    {
      "cell_type": "code",
      "source": [
        "for layer in model_final.layers:\n",
        "  print(layer, layer.trainable)"
      ],
      "metadata": {
        "id": "0zjRH05JNNrR",
        "outputId": "1ee90985-6222-4278-9367-ec6cc9d1b6a0",
        "colab": {
          "base_uri": "https://localhost:8080/"
        }
      },
      "execution_count": 13,
      "outputs": [
        {
          "output_type": "stream",
          "name": "stdout",
          "text": [
            "<keras.engine.input_layer.InputLayer object at 0x7f60f61c0550> False\n",
            "<keras.layers.convolutional.conv2d.Conv2D object at 0x7f60f61c0910> False\n",
            "<keras.layers.normalization.batch_normalization.BatchNormalization object at 0x7f5f90c66490> False\n",
            "<keras.layers.core.activation.Activation object at 0x7f60f61c0dd0> False\n",
            "<keras.layers.convolutional.conv2d.Conv2D object at 0x7f5f90c6d310> False\n",
            "<keras.layers.normalization.batch_normalization.BatchNormalization object at 0x7f60f61d6950> False\n",
            "<keras.layers.core.activation.Activation object at 0x7f60f61d67d0> False\n",
            "<keras.layers.convolutional.separable_conv2d.SeparableConv2D object at 0x7f5f90d879d0> False\n",
            "<keras.layers.normalization.batch_normalization.BatchNormalization object at 0x7f5f90ecc050> False\n",
            "<keras.layers.core.activation.Activation object at 0x7f5f90ecc1d0> False\n",
            "<keras.layers.convolutional.separable_conv2d.SeparableConv2D object at 0x7f5f90c8ee90> False\n",
            "<keras.layers.normalization.batch_normalization.BatchNormalization object at 0x7f60f61d6690> False\n",
            "<keras.layers.convolutional.conv2d.Conv2D object at 0x7f5f90cd7650> False\n",
            "<keras.layers.pooling.max_pooling2d.MaxPooling2D object at 0x7f5f90c8e490> False\n",
            "<keras.layers.normalization.batch_normalization.BatchNormalization object at 0x7f5f90cd72d0> False\n",
            "<keras.layers.merging.add.Add object at 0x7f5f90c97310> False\n",
            "<keras.layers.core.activation.Activation object at 0x7f5f90c97e90> False\n",
            "<keras.layers.convolutional.separable_conv2d.SeparableConv2D object at 0x7f5f90ca0a90> False\n",
            "<keras.layers.normalization.batch_normalization.BatchNormalization object at 0x7f5f90c2dd90> False\n",
            "<keras.layers.core.activation.Activation object at 0x7f5f90c2d990> False\n",
            "<keras.layers.convolutional.separable_conv2d.SeparableConv2D object at 0x7f5f90da0c90> False\n",
            "<keras.layers.normalization.batch_normalization.BatchNormalization object at 0x7f5f90c36f90> False\n",
            "<keras.layers.convolutional.conv2d.Conv2D object at 0x7f5f90c9d890> False\n",
            "<keras.layers.pooling.max_pooling2d.MaxPooling2D object at 0x7f5f90e42950> False\n",
            "<keras.layers.normalization.batch_normalization.BatchNormalization object at 0x7f5f90c9d550> False\n",
            "<keras.layers.merging.add.Add object at 0x7f5f90c49350> False\n",
            "<keras.layers.core.activation.Activation object at 0x7f5f90da0f50> False\n",
            "<keras.layers.convolutional.separable_conv2d.SeparableConv2D object at 0x7f5f90c5ae50> False\n",
            "<keras.layers.normalization.batch_normalization.BatchNormalization object at 0x7f5f90be3f50> False\n",
            "<keras.layers.core.activation.Activation object at 0x7f5f90be3210> False\n",
            "<keras.layers.convolutional.separable_conv2d.SeparableConv2D object at 0x7f5f90c4e4d0> False\n",
            "<keras.layers.normalization.batch_normalization.BatchNormalization object at 0x7f5f90bf4c90> False\n",
            "<keras.layers.convolutional.conv2d.Conv2D object at 0x7f5f90c4ec10> False\n",
            "<keras.layers.pooling.max_pooling2d.MaxPooling2D object at 0x7f5f90bf4d90> False\n",
            "<keras.layers.normalization.batch_normalization.BatchNormalization object at 0x7f5f90d9c510> False\n",
            "<keras.layers.merging.add.Add object at 0x7f5f90bfa510> False\n",
            "<keras.layers.core.activation.Activation object at 0x7f5f90c01790> False\n",
            "<keras.layers.convolutional.separable_conv2d.SeparableConv2D object at 0x7f5f90c0abd0> False\n",
            "<keras.layers.normalization.batch_normalization.BatchNormalization object at 0x7f5f90c4ec50> False\n",
            "<keras.layers.core.activation.Activation object at 0x7f5f90c04490> False\n",
            "<keras.layers.convolutional.separable_conv2d.SeparableConv2D object at 0x7f5f90c5a6d0> False\n",
            "<keras.layers.normalization.batch_normalization.BatchNormalization object at 0x7f615ea7d990> False\n",
            "<keras.layers.core.activation.Activation object at 0x7f5f90c40b50> False\n",
            "<keras.layers.convolutional.separable_conv2d.SeparableConv2D object at 0x7f5f90c2ddd0> False\n",
            "<keras.layers.normalization.batch_normalization.BatchNormalization object at 0x7f5f90c31b50> False\n",
            "<keras.layers.merging.add.Add object at 0x7f5f90d2e650> False\n",
            "<keras.layers.core.activation.Activation object at 0x7f5f90c01910> False\n",
            "<keras.layers.convolutional.separable_conv2d.SeparableConv2D object at 0x7f5f90c97590> False\n",
            "<keras.layers.normalization.batch_normalization.BatchNormalization object at 0x7f60f61d6810> False\n",
            "<keras.layers.core.activation.Activation object at 0x7f5f90bf0490> False\n",
            "<keras.layers.convolutional.separable_conv2d.SeparableConv2D object at 0x7f5f90d2e150> False\n",
            "<keras.layers.normalization.batch_normalization.BatchNormalization object at 0x7f60f61d6ad0> False\n",
            "<keras.layers.core.activation.Activation object at 0x7f5f90dd0590> False\n",
            "<keras.layers.convolutional.separable_conv2d.SeparableConv2D object at 0x7f60f61d6610> False\n",
            "<keras.layers.normalization.batch_normalization.BatchNormalization object at 0x7f5f90c04190> False\n",
            "<keras.layers.merging.add.Add object at 0x7f5f90bb4c10> False\n",
            "<keras.layers.core.activation.Activation object at 0x7f5f90bfaa90> False\n",
            "<keras.layers.convolutional.separable_conv2d.SeparableConv2D object at 0x7f5f90baef90> False\n",
            "<keras.layers.normalization.batch_normalization.BatchNormalization object at 0x7f5f90c1f410> False\n",
            "<keras.layers.core.activation.Activation object at 0x7f5f90bd5550> False\n",
            "<keras.layers.convolutional.separable_conv2d.SeparableConv2D object at 0x7f5f90c159d0> False\n",
            "<keras.layers.normalization.batch_normalization.BatchNormalization object at 0x7f5f90bd5590> False\n",
            "<keras.layers.core.activation.Activation object at 0x7f5f90bdefd0> False\n",
            "<keras.layers.convolutional.separable_conv2d.SeparableConv2D object at 0x7f5f90baee50> False\n",
            "<keras.layers.normalization.batch_normalization.BatchNormalization object at 0x7f5f90b81710> False\n",
            "<keras.layers.merging.add.Add object at 0x7f5f90b81dd0> False\n",
            "<keras.layers.core.activation.Activation object at 0x7f5f90beb410> False\n",
            "<keras.layers.convolutional.separable_conv2d.SeparableConv2D object at 0x7f5f90b71dd0> False\n",
            "<keras.layers.normalization.batch_normalization.BatchNormalization object at 0x7f5f90b68bd0> False\n",
            "<keras.layers.core.activation.Activation object at 0x7f5f90b965d0> False\n",
            "<keras.layers.convolutional.separable_conv2d.SeparableConv2D object at 0x7f5f90b78d50> False\n",
            "<keras.layers.normalization.batch_normalization.BatchNormalization object at 0x7f5f90b96e50> False\n",
            "<keras.layers.core.activation.Activation object at 0x7f5f90b26c10> False\n",
            "<keras.layers.convolutional.separable_conv2d.SeparableConv2D object at 0x7f5f90b26410> False\n",
            "<keras.layers.normalization.batch_normalization.BatchNormalization object at 0x7f5f90b9bc50> False\n",
            "<keras.layers.merging.add.Add object at 0x7f5f90b88050> False\n",
            "<keras.layers.core.activation.Activation object at 0x7f5f90b78690> False\n",
            "<keras.layers.convolutional.separable_conv2d.SeparableConv2D object at 0x7f5f90b3f790> False\n",
            "<keras.layers.normalization.batch_normalization.BatchNormalization object at 0x7f5f90b3f590> False\n",
            "<keras.layers.core.activation.Activation object at 0x7f5f90b3fc90> False\n",
            "<keras.layers.convolutional.separable_conv2d.SeparableConv2D object at 0x7f5f90b4df90> False\n",
            "<keras.layers.normalization.batch_normalization.BatchNormalization object at 0x7f5f90b260d0> False\n",
            "<keras.layers.core.activation.Activation object at 0x7f5f90ba1090> False\n",
            "<keras.layers.convolutional.separable_conv2d.SeparableConv2D object at 0x7f5f90b4d490> False\n",
            "<keras.layers.normalization.batch_normalization.BatchNormalization object at 0x7f5f90ba1b10> False\n",
            "<keras.layers.merging.add.Add object at 0x7f5f90b68550> False\n",
            "<keras.layers.core.activation.Activation object at 0x7f5f90b3fd10> False\n",
            "<keras.layers.convolutional.separable_conv2d.SeparableConv2D object at 0x7f5f90b63290> False\n",
            "<keras.layers.normalization.batch_normalization.BatchNormalization object at 0x7f5f90bd5990> False\n",
            "<keras.layers.core.activation.Activation object at 0x7f5f90bbb2d0> False\n",
            "<keras.layers.convolutional.separable_conv2d.SeparableConv2D object at 0x7f5f90c1f490> False\n",
            "<keras.layers.normalization.batch_normalization.BatchNormalization object at 0x7f5f90cdd850> False\n",
            "<keras.layers.core.activation.Activation object at 0x7f5f90dd4a50> False\n",
            "<keras.layers.convolutional.separable_conv2d.SeparableConv2D object at 0x7f5f90b26b50> False\n",
            "<keras.layers.normalization.batch_normalization.BatchNormalization object at 0x7f5f90c39610> False\n",
            "<keras.layers.merging.add.Add object at 0x7f5f90dbe950> False\n",
            "<keras.layers.core.activation.Activation object at 0x7f5f90b4ddd0> False\n",
            "<keras.layers.convolutional.separable_conv2d.SeparableConv2D object at 0x7f5f90ca0f10> False\n",
            "<keras.layers.normalization.batch_normalization.BatchNormalization object at 0x7f5f90ae6f50> False\n",
            "<keras.layers.core.activation.Activation object at 0x7f5f90eccf90> False\n",
            "<keras.layers.convolutional.separable_conv2d.SeparableConv2D object at 0x7f5f90aff650> False\n",
            "<keras.layers.normalization.batch_normalization.BatchNormalization object at 0x7f5f90aff310> False\n",
            "<keras.layers.core.activation.Activation object at 0x7f5f90b13ad0> False\n",
            "<keras.layers.convolutional.separable_conv2d.SeparableConv2D object at 0x7f5f90af4ed0> False\n",
            "<keras.layers.normalization.batch_normalization.BatchNormalization object at 0x7f5f90af9b50> False\n",
            "<keras.layers.merging.add.Add object at 0x7f5f90aa6a90> False\n",
            "<keras.layers.core.activation.Activation object at 0x7f5f90ae6450> False\n",
            "<keras.layers.convolutional.separable_conv2d.SeparableConv2D object at 0x7f5f90affbd0> False\n",
            "<keras.layers.normalization.batch_normalization.BatchNormalization object at 0x7f5f90aa6cd0> False\n",
            "<keras.layers.core.activation.Activation object at 0x7f5f90aeccd0> False\n",
            "<keras.layers.convolutional.separable_conv2d.SeparableConv2D object at 0x7f5f90b19250> False\n",
            "<keras.layers.normalization.batch_normalization.BatchNormalization object at 0x7f5f90abc8d0> False\n",
            "<keras.layers.core.activation.Activation object at 0x7f5f90c27610> False\n",
            "<keras.layers.convolutional.separable_conv2d.SeparableConv2D object at 0x7f5f90abcb10> False\n",
            "<keras.layers.normalization.batch_normalization.BatchNormalization object at 0x7f5f90acb7d0> False\n",
            "<keras.layers.merging.add.Add object at 0x7f5f90a65dd0> False\n",
            "<keras.layers.core.activation.Activation object at 0x7f5f90a65a90> False\n",
            "<keras.layers.convolutional.separable_conv2d.SeparableConv2D object at 0x7f5f90bd56d0> False\n",
            "<keras.layers.normalization.batch_normalization.BatchNormalization object at 0x7f5f90a78a10> False\n",
            "<keras.layers.core.activation.Activation object at 0x7f5f90a78510> False\n",
            "<keras.layers.convolutional.separable_conv2d.SeparableConv2D object at 0x7f5f90a785d0> False\n",
            "<keras.layers.normalization.batch_normalization.BatchNormalization object at 0x7f5f90a7ea50> False\n",
            "<keras.layers.convolutional.conv2d.Conv2D object at 0x7f5f90a65390> False\n",
            "<keras.layers.pooling.max_pooling2d.MaxPooling2D object at 0x7f5f90acb4d0> False\n",
            "<keras.layers.normalization.batch_normalization.BatchNormalization object at 0x7f5f90ac5950> False\n",
            "<keras.layers.merging.add.Add object at 0x7f5f90a65ad0> False\n",
            "<keras.layers.convolutional.separable_conv2d.SeparableConv2D object at 0x7f5f90a70a50> False\n",
            "<keras.layers.normalization.batch_normalization.BatchNormalization object at 0x7f5f90abc890> True\n",
            "<keras.layers.core.activation.Activation object at 0x7f5f90b06090> True\n",
            "<keras.layers.convolutional.separable_conv2d.SeparableConv2D object at 0x7f5f90b06050> True\n",
            "<keras.layers.normalization.batch_normalization.BatchNormalization object at 0x7f5f90aec910> True\n",
            "<keras.layers.core.activation.Activation object at 0x7f5f90ae6110> True\n",
            "<keras.layers.reshaping.flatten.Flatten object at 0x7f60f61c0510> True\n",
            "<keras.layers.core.dense.Dense object at 0x7f5f90aa6d10> True\n",
            "<keras.layers.core.dense.Dense object at 0x7f5f90bf0e90> True\n"
          ]
        }
      ]
    },
    {
      "cell_type": "markdown",
      "metadata": {
        "id": "6qdDU9-qQfp6"
      },
      "source": [
        "Xception\n"
      ]
    },
    {
      "cell_type": "code",
      "execution_count": 54,
      "metadata": {
        "colab": {
          "base_uri": "https://localhost:8080/"
        },
        "id": "IOmqg4EDQjRk",
        "outputId": "eda96795-a724-44b7-9562-e3f0294d6e75"
      },
      "outputs": [
        {
          "output_type": "stream",
          "name": "stderr",
          "text": [
            "WARNING:tensorflow:`period` argument is deprecated. Please use `save_freq` to specify the frequency in number of batches seen.\n"
          ]
        },
        {
          "output_type": "stream",
          "name": "stdout",
          "text": [
            "Epoch 1/5\n",
            "32/32 [==============================] - ETA: 0s - loss: 2.9434 - accuracy: 0.2842\n",
            "Epoch 1: loss improved from inf to 2.94338, saving model to xception\n"
          ]
        },
        {
          "output_type": "stream",
          "name": "stderr",
          "text": [
            "WARNING:absl:Found untraced functions such as _jit_compiled_convolution_op, _jit_compiled_convolution_op, _jit_compiled_convolution_op, _jit_compiled_convolution_op, _jit_compiled_convolution_op while saving (showing 5 of 40). These functions will not be directly callable after loading.\n"
          ]
        },
        {
          "output_type": "stream",
          "name": "stdout",
          "text": [
            "\b\b\b\b\b\b\b\b\b\b\b\b\b\b\b\b\b\b\b\b\b\b\b\b\b\b\b\b\b\b\b\b\b\b\b\b\b\b\b\b\b\b\b\b\b\b\b\b\b\b\b\b\b\b\b\b\b\b\b\b\b\b\b\b\b\b\b\b\b\b\b\b\b\b\b\b\b\b\b\b\b\b\r32/32 [==============================] - 49s 1s/step - loss: 2.9434 - accuracy: 0.2842\n",
            "Epoch 2/5\n",
            "32/32 [==============================] - ETA: 0s - loss: 1.7319 - accuracy: 0.4883\n",
            "Epoch 2: loss improved from 2.94338 to 1.73195, saving model to xception\n"
          ]
        },
        {
          "output_type": "stream",
          "name": "stderr",
          "text": [
            "WARNING:absl:Found untraced functions such as _jit_compiled_convolution_op, _jit_compiled_convolution_op, _jit_compiled_convolution_op, _jit_compiled_convolution_op, _jit_compiled_convolution_op while saving (showing 5 of 40). These functions will not be directly callable after loading.\n"
          ]
        },
        {
          "output_type": "stream",
          "name": "stdout",
          "text": [
            "\b\b\b\b\b\b\b\b\b\b\b\b\b\b\b\b\b\b\b\b\b\b\b\b\b\b\b\b\b\b\b\b\b\b\b\b\b\b\b\b\b\b\b\b\b\b\b\b\b\b\b\b\b\b\b\b\b\b\b\b\b\b\b\b\b\b\b\b\b\b\b\b\b\b\b\b\b\b\b\b\b\b\r32/32 [==============================] - 47s 1s/step - loss: 1.7319 - accuracy: 0.4883\n",
            "Epoch 3/5\n",
            "32/32 [==============================] - ETA: 0s - loss: 1.2568 - accuracy: 0.6230\n",
            "Epoch 3: loss improved from 1.73195 to 1.25684, saving model to xception\n"
          ]
        },
        {
          "output_type": "stream",
          "name": "stderr",
          "text": [
            "WARNING:absl:Found untraced functions such as _jit_compiled_convolution_op, _jit_compiled_convolution_op, _jit_compiled_convolution_op, _jit_compiled_convolution_op, _jit_compiled_convolution_op while saving (showing 5 of 40). These functions will not be directly callable after loading.\n"
          ]
        },
        {
          "output_type": "stream",
          "name": "stdout",
          "text": [
            "\b\b\b\b\b\b\b\b\b\b\b\b\b\b\b\b\b\b\b\b\b\b\b\b\b\b\b\b\b\b\b\b\b\b\b\b\b\b\b\b\b\b\b\b\b\b\b\b\b\b\b\b\b\b\b\b\b\b\b\b\b\b\b\b\b\b\b\b\b\b\b\b\b\b\b\b\b\b\b\b\b\b\r32/32 [==============================] - 46s 1s/step - loss: 1.2568 - accuracy: 0.6230\n",
            "Epoch 4/5\n",
            "32/32 [==============================] - ETA: 0s - loss: 1.0117 - accuracy: 0.6787\n",
            "Epoch 4: loss improved from 1.25684 to 1.01166, saving model to xception\n"
          ]
        },
        {
          "output_type": "stream",
          "name": "stderr",
          "text": [
            "WARNING:absl:Found untraced functions such as _jit_compiled_convolution_op, _jit_compiled_convolution_op, _jit_compiled_convolution_op, _jit_compiled_convolution_op, _jit_compiled_convolution_op while saving (showing 5 of 40). These functions will not be directly callable after loading.\n"
          ]
        },
        {
          "output_type": "stream",
          "name": "stdout",
          "text": [
            "\b\b\b\b\b\b\b\b\b\b\b\b\b\b\b\b\b\b\b\b\b\b\b\b\b\b\b\b\b\b\b\b\b\b\b\b\b\b\b\b\b\b\b\b\b\b\b\b\b\b\b\b\b\b\b\b\b\b\b\b\b\b\b\b\b\b\b\b\b\b\b\b\b\b\b\b\b\b\b\b\b\b\r32/32 [==============================] - 45s 1s/step - loss: 1.0117 - accuracy: 0.6787\n",
            "Epoch 5/5\n",
            "32/32 [==============================] - ETA: 0s - loss: 0.7732 - accuracy: 0.7598\n",
            "Epoch 5: loss improved from 1.01166 to 0.77316, saving model to xception\n"
          ]
        },
        {
          "output_type": "stream",
          "name": "stderr",
          "text": [
            "WARNING:absl:Found untraced functions such as _jit_compiled_convolution_op, _jit_compiled_convolution_op, _jit_compiled_convolution_op, _jit_compiled_convolution_op, _jit_compiled_convolution_op while saving (showing 5 of 40). These functions will not be directly callable after loading.\n"
          ]
        },
        {
          "output_type": "stream",
          "name": "stdout",
          "text": [
            "\b\b\b\b\b\b\b\b\b\b\b\b\b\b\b\b\b\b\b\b\b\b\b\b\b\b\b\b\b\b\b\b\b\b\b\b\b\b\b\b\b\b\b\b\b\b\b\b\b\b\b\b\b\b\b\b\b\b\b\b\b\b\b\b\b\b\b\b\b\b\b\b\b\b\b\b\b\b\b\b\b\b\r32/32 [==============================] - 44s 1s/step - loss: 0.7732 - accuracy: 0.7598\n"
          ]
        }
      ],
      "source": [
        "checkpoint = ModelCheckpoint(\"xception\", monitor='loss', verbose=1, save_best_only=True, save_weights_only=False, mode='auto', period=1)\n",
        "early = EarlyStopping(monitor='loss', min_delta=0.0001, patience=7, verbose=2, mode='auto')\n",
        "hist = model_final.fit(train_generator,                   \n",
        "                                    steps_per_epoch=batch_size,\n",
        "                                    validation_data=test_generator,                    \n",
        "                                    validation_steps=10,\n",
        "                                    epochs=epochs,\n",
        "                                    callbacks = [checkpoint, early],\n",
        "                                    verbose=1)"
      ]
    },
    {
      "cell_type": "markdown",
      "metadata": {
        "id": "hrRU_VBtS3IH"
      },
      "source": [
        "Plot Xception"
      ]
    },
    {
      "cell_type": "code",
      "execution_count": 55,
      "metadata": {
        "id": "5ac8fe9iS4af",
        "outputId": "3f8cf981-2d69-4d0c-81b0-6f81ba0aea69",
        "colab": {
          "base_uri": "https://localhost:8080/",
          "height": 265
        }
      },
      "outputs": [
        {
          "output_type": "display_data",
          "data": {
            "text/plain": [
              "<Figure size 432x288 with 1 Axes>"
            ],
            "image/png": "[encoded data removed]"
          },
          "metadata": {
            "needs_background": "light"
          }
        }
      ],
      "source": [
        "import matplotlib.pyplot as plt\n",
        "plt.plot(hist.history[\"loss\"])\n",
        "plt.plot(hist.history[\"accuracy\"])\n",
        "#plt.plot(hist.history[\"val_loss\"])\n",
        "#plt.plot(hist.history[\"val_accuracy\"])\n",
        "plt.legend([\"loss\", \"accuracy\"])\n",
        "plt.show()"
      ]
    },
    {
      "cell_type": "code",
      "source": [
        "model.compile(optimizers.RMSprop(learning_rate=0.0001, decay=1e-5),loss='categorical_crossentropy',metrics=['accuracy'])\n",
        "target_names = ['Apple Braeburn',\n",
        "'Apple Granny Smith',\n",
        "'Apricot',\n",
        "'Avocado',\n",
        "'Banana',\n",
        "'Blueberry',\n",
        "'Cactus fruit',\n",
        "'Cantaloupe',\n",
        "'Cherry',\n",
        "'Clementine',\n",
        "'Corn',\n",
        "'Cucumber RIpe',\n",
        "'Grape blue',\n",
        "'Kiwi',\n",
        "'Lemon',\n",
        "'Limes',\n",
        "'Mango',\n",
        "'Onion White',\n",
        "'Orange',\n",
        "'Papaya',\n",
        "'Passion fruit',\n",
        "'Peach',\n",
        "'Pear',\n",
        "'Pepper Green',\n",
        "'Pepper Red',\n",
        "'Pineapple',\n",
        "'Plum',\n",
        "'Pomegranate',\n",
        "'Potato Red',\n",
        "'Raspberry',\n",
        "'Strawberry',\n",
        "'Tomato',\n",
        "'Watermelon']"
      ],
      "metadata": {
        "id": "2k0It8yTE6DV"
      },
      "execution_count": 56,
      "outputs": []
    },
    {
      "cell_type": "code",
      "source": [
        "Sequence = keras.utils.Sequence\n",
        "import tensorflow.keras as keras\n",
        "\n",
        "Y_pred = model.predict_generator(test_datagen, steps = num_of_test_samples // batch_size+1)\n",
        "\n",
        "#predict = model.predict_generator(test_generator,steps = \n",
        "                                  # np.ceil(nb_samples/desired_batch_size))\n",
        "y_pred = np.argmax(Y_pred, axis=1)\n",
        "print('Confusion Matrix')\n",
        "print(confusion_matrix(train_datagen.classes, y_pred))\n",
        "print('Classification Report')\n",
        "print(classification_report(train_datagen.classes, y_pred, target_names=target_names))"
      ],
      "metadata": {
        "id": "LojXgIwhfTBU",
        "colab": {
          "base_uri": "https://localhost:8080/",
          "height": 435
        },
        "outputId": "a7b9d978-345b-4634-e2b1-f810a5d2d4bb"
      },
      "execution_count": 72,
      "outputs": [
        {
          "output_type": "stream",
          "name": "stderr",
          "text": [
            "/usr/local/lib/python3.7/dist-packages/ipykernel_launcher.py:4: UserWarning: `Model.predict_generator` is deprecated and will be removed in a future version. Please use `Model.predict`, which supports generators.\n",
            "  after removing the cwd from sys.path.\n"
          ]
        },
        {
          "output_type": "error",
          "ename": "ValueError",
          "evalue": "ignored",
          "traceback": [
            "\u001b[0;31m---------------------------------------------------------------------------\u001b[0m",
            "\u001b[0;31mValueError\u001b[0m                                Traceback (most recent call last)",
            "\u001b[0;32m<ipython-input-72-80fdfc262da6>\u001b[0m in \u001b[0;36m<module>\u001b[0;34m\u001b[0m\n\u001b[1;32m      2\u001b[0m \u001b[0;32mimport\u001b[0m \u001b[0mtensorflow\u001b[0m\u001b[0;34m.\u001b[0m\u001b[0mkeras\u001b[0m \u001b[0;32mas\u001b[0m \u001b[0mkeras\u001b[0m\u001b[0;34m\u001b[0m\u001b[0;34m\u001b[0m\u001b[0m\n\u001b[1;32m      3\u001b[0m \u001b[0;34m\u001b[0m\u001b[0m\n\u001b[0;32m----> 4\u001b[0;31m \u001b[0mY_pred\u001b[0m \u001b[0;34m=\u001b[0m \u001b[0mmodel\u001b[0m\u001b[0;34m.\u001b[0m\u001b[0mpredict_generator\u001b[0m\u001b[0;34m(\u001b[0m\u001b[0mtest_datagen\u001b[0m\u001b[0;34m,\u001b[0m \u001b[0msteps\u001b[0m \u001b[0;34m=\u001b[0m \u001b[0mnum_of_test_samples\u001b[0m \u001b[0;34m//\u001b[0m \u001b[0mbatch_size\u001b[0m\u001b[0;34m+\u001b[0m\u001b[0;36m1\u001b[0m\u001b[0;34m)\u001b[0m\u001b[0;34m\u001b[0m\u001b[0;34m\u001b[0m\u001b[0m\n\u001b[0m\u001b[1;32m      5\u001b[0m \u001b[0;34m\u001b[0m\u001b[0m\n\u001b[1;32m      6\u001b[0m \u001b[0;31m#predict = model.predict_generator(test_generator,steps =\u001b[0m\u001b[0;34m\u001b[0m\u001b[0;34m\u001b[0m\u001b[0;34m\u001b[0m\u001b[0m\n",
            "\u001b[0;32m/usr/local/lib/python3.7/dist-packages/keras/engine/training.py\u001b[0m in \u001b[0;36mpredict_generator\u001b[0;34m(self, generator, steps, callbacks, max_queue_size, workers, use_multiprocessing, verbose)\u001b[0m\n\u001b[1;32m   2332\u001b[0m         \u001b[0muse_multiprocessing\u001b[0m\u001b[0;34m=\u001b[0m\u001b[0muse_multiprocessing\u001b[0m\u001b[0;34m,\u001b[0m\u001b[0;34m\u001b[0m\u001b[0;34m\u001b[0m\u001b[0m\n\u001b[1;32m   2333\u001b[0m         \u001b[0mverbose\u001b[0m\u001b[0;34m=\u001b[0m\u001b[0mverbose\u001b[0m\u001b[0;34m,\u001b[0m\u001b[0;34m\u001b[0m\u001b[0;34m\u001b[0m\u001b[0m\n\u001b[0;32m-> 2334\u001b[0;31m         callbacks=callbacks)\n\u001b[0m\u001b[1;32m   2335\u001b[0m \u001b[0;34m\u001b[0m\u001b[0m\n\u001b[1;32m   2336\u001b[0m   \u001b[0;31m######################################################################\u001b[0m\u001b[0;34m\u001b[0m\u001b[0;34m\u001b[0m\u001b[0;34m\u001b[0m\u001b[0m\n",
            "\u001b[0;32m/usr/local/lib/python3.7/dist-packages/keras/utils/traceback_utils.py\u001b[0m in \u001b[0;36merror_handler\u001b[0;34m(*args, **kwargs)\u001b[0m\n\u001b[1;32m     65\u001b[0m     \u001b[0;32mexcept\u001b[0m \u001b[0mException\u001b[0m \u001b[0;32mas\u001b[0m \u001b[0me\u001b[0m\u001b[0;34m:\u001b[0m  \u001b[0;31m# pylint: disable=broad-except\u001b[0m\u001b[0;34m\u001b[0m\u001b[0;34m\u001b[0m\u001b[0m\n\u001b[1;32m     66\u001b[0m       \u001b[0mfiltered_tb\u001b[0m \u001b[0;34m=\u001b[0m \u001b[0m_process_traceback_frames\u001b[0m\u001b[0;34m(\u001b[0m\u001b[0me\u001b[0m\u001b[0;34m.\u001b[0m\u001b[0m__traceback__\u001b[0m\u001b[0;34m)\u001b[0m\u001b[0;34m\u001b[0m\u001b[0;34m\u001b[0m\u001b[0m\n\u001b[0;32m---> 67\u001b[0;31m       \u001b[0;32mraise\u001b[0m \u001b[0me\u001b[0m\u001b[0;34m.\u001b[0m\u001b[0mwith_traceback\u001b[0m\u001b[0;34m(\u001b[0m\u001b[0mfiltered_tb\u001b[0m\u001b[0;34m)\u001b[0m \u001b[0;32mfrom\u001b[0m \u001b[0;32mNone\u001b[0m\u001b[0;34m\u001b[0m\u001b[0;34m\u001b[0m\u001b[0m\n\u001b[0m\u001b[1;32m     68\u001b[0m     \u001b[0;32mfinally\u001b[0m\u001b[0;34m:\u001b[0m\u001b[0;34m\u001b[0m\u001b[0;34m\u001b[0m\u001b[0m\n\u001b[1;32m     69\u001b[0m       \u001b[0;32mdel\u001b[0m \u001b[0mfiltered_tb\u001b[0m\u001b[0;34m\u001b[0m\u001b[0;34m\u001b[0m\u001b[0m\n",
            "\u001b[0;32m/usr/local/lib/python3.7/dist-packages/keras/engine/data_adapter.py\u001b[0m in \u001b[0;36mselect_data_adapter\u001b[0;34m(x, y)\u001b[0m\n\u001b[1;32m    986\u001b[0m         \u001b[0;34m\"Failed to find data adapter that can handle \"\u001b[0m\u001b[0;34m\u001b[0m\u001b[0;34m\u001b[0m\u001b[0m\n\u001b[1;32m    987\u001b[0m         \"input: {}, {}\".format(\n\u001b[0;32m--> 988\u001b[0;31m             _type_name(x), _type_name(y)))\n\u001b[0m\u001b[1;32m    989\u001b[0m   \u001b[0;32melif\u001b[0m \u001b[0mlen\u001b[0m\u001b[0;34m(\u001b[0m\u001b[0madapter_cls\u001b[0m\u001b[0;34m)\u001b[0m \u001b[0;34m>\u001b[0m \u001b[0;36m1\u001b[0m\u001b[0;34m:\u001b[0m\u001b[0;34m\u001b[0m\u001b[0;34m\u001b[0m\u001b[0m\n\u001b[1;32m    990\u001b[0m     raise RuntimeError(\n",
            "\u001b[0;31mValueError\u001b[0m: Failed to find data adapter that can handle input: <class 'keras.preprocessing.image.ImageDataGenerator'>, <class 'NoneType'>"
          ]
        }
      ]
    }
  ],
  "metadata": {
    "accelerator": "GPU",
    "colab": {
      "provenance": [],
      "include_colab_link": true
    },
    "gpuClass": "standard",
    "kernelspec": {
      "display_name": "Python 3",
      "name": "python3"
    },
    "language_info": {
      "name": "python"
    }
  },
  "nbformat": 4,
  "nbformat_minor": 0
}
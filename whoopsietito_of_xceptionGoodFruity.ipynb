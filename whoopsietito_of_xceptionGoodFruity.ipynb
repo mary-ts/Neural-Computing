{
  "cells": [
    {
      "cell_type": "markdown",
      "metadata": {
        "id": "view-in-github",
        "colab_type": "text"
      },
      "source": [
        "<a href=\"https://colab.research.google.com/github/mary-ts/Neural-Computing/blob/tito/whoopsietito_of_xceptionGoodFruity.ipynb\" target=\"_parent\"><img src=\"https://colab.research.google.com/assets/colab-badge.svg\" alt=\"Open In Colab\"/></a>"
      ]
    },
    {
      "cell_type": "markdown",
      "metadata": {
        "id": "pVhvb2zpFJjj"
      },
      "source": [
        "Imports"
      ]
    },
    {
      "cell_type": "code",
      "execution_count": 2,
      "metadata": {
        "colab": {
          "base_uri": "https://localhost:8080/"
        },
        "id": "oP5Qk3nRrJ8W",
        "outputId": "08530598-26a7-4761-b505-48372664ff0b"
      },
      "outputs": [
        {
          "output_type": "stream",
          "name": "stdout",
          "text": [
            "Mounted at /content/drive\n"
          ]
        }
      ],
      "source": [
        "from google.colab import drive\n",
        "drive.mount('/content/drive')"
      ]
    },
    {
      "cell_type": "code",
      "execution_count": 3,
      "metadata": {
        "id": "0UtFlsCx3p7v"
      },
      "outputs": [],
      "source": [
        "import numpy as np\n",
        "import pandas as pd\n",
        "import matplotlib.pyplot as plt\n",
        "import tensorflow as tf\n",
        "import keras\n",
        "import keras.layers as layers\n",
        "from keras import Sequential\n",
        "import keras.models\n",
        "from keras.layers import *\n",
        "from keras.models import * \n",
        "from keras import optimizers, applications\n",
        "from keras.preprocessing import image\n",
        "from keras.callbacks import ModelCheckpoint, EarlyStopping\n",
        "from sklearn.metrics import confusion_matrix, classification_report"
      ]
    },
    {
      "cell_type": "markdown",
      "metadata": {
        "id": "TkKj_nmXFMVx"
      },
      "source": [
        "Dataset Paths"
      ]
    },
    {
      "cell_type": "code",
      "execution_count": 4,
      "metadata": {
        "id": "wLUXspsC3r59"
      },
      "outputs": [],
      "source": [
        "train_path = \"/content/drive/MyDrive/CNN IMAGES/archive (1)/train/train\"\n",
        "test_path = \"/content/drive/MyDrive/CNN IMAGES/archive (1)/test/test\""
      ]
    },
    {
      "cell_type": "markdown",
      "metadata": {
        "id": "K3FzUSSnFPBX"
      },
      "source": [
        "Creating training and test data"
      ]
    },
    {
      "cell_type": "code",
      "execution_count": 5,
      "metadata": {
        "id": "2BnRGnO1_Gid"
      },
      "outputs": [],
      "source": [
        "train_datagen = image.ImageDataGenerator(\n",
        "    rotation_range=15,\n",
        "    shear_range=0.2,\n",
        "    zoom_range=0.2,\n",
        "    horizontal_flip=True,\n",
        "    fill_mode='nearest',\n",
        "    width_shift_range=0.1,\n",
        "    height_shift_range=0.1,\n",
        "    validation_split = 0.2\n",
        ")\n",
        "test_datagen= image.ImageDataGenerator(    \n",
        "    rotation_range=15,\n",
        "    shear_range=0.2,\n",
        "    zoom_range=0.2,\n",
        "    horizontal_flip=True,\n",
        "    fill_mode='nearest',\n",
        "    width_shift_range=0.1,\n",
        "    height_shift_range=0.1)"
      ]
    },
    {
      "cell_type": "markdown",
      "metadata": {
        "id": "mLIPKlW7FT4b"
      },
      "source": [
        "Importing data into generators"
      ]
    },
    {
      "cell_type": "code",
      "execution_count": 6,
      "metadata": {
        "colab": {
          "base_uri": "https://localhost:8080/"
        },
        "id": "ohGl3H5QC1KJ",
        "outputId": "dadd3e7a-6222-40a7-8111-68c4fb131a67"
      },
      "outputs": [
        {
          "output_type": "stream",
          "name": "stdout",
          "text": [
            "Found 16854 images belonging to 33 classes.\n",
            "Found 0 images belonging to 0 classes.\n"
          ]
        }
      ],
      "source": [
        "train_generator = train_datagen.flow_from_directory(\n",
        "    train_path,\n",
        "    target_size = (299,299),\n",
        "    batch_size = 32,\n",
        "    class_mode = 'categorical', \n",
        "    shuffle=True)\n",
        "\n",
        "test_generator = test_datagen.flow_from_directory(\n",
        "    test_path,\n",
        "    target_size = (299,299),\n",
        "    batch_size = 32,\n",
        "    shuffle=True,\n",
        "    class_mode = 'categorical')"
      ]
    },
    {
      "cell_type": "markdown",
      "metadata": {
        "id": "zx24OGvzOMqY"
      },
      "source": [
        "Xception Model"
      ]
    },
    {
      "cell_type": "code",
      "execution_count": 7,
      "metadata": {
        "id": "zvYME2sPOLnB",
        "colab": {
          "base_uri": "https://localhost:8080/"
        },
        "outputId": "befd7e6f-194f-4e5e-a5c6-f29f188d758b"
      },
      "outputs": [
        {
          "output_type": "stream",
          "name": "stdout",
          "text": [
            "Downloading data from https://storage.googleapis.com/tensorflow/keras-applications/xception/xception_weights_tf_dim_ordering_tf_kernels_notop.h5\n",
            "83683744/83683744 [==============================] - 3s 0us/step\n"
          ]
        }
      ],
      "source": [
        "model = applications.Xception(weights='imagenet', \n",
        "                              include_top=False, \n",
        "                              input_shape=(299, 299, 3))\n",
        "\n",
        "for layer in model.layers[:-5]:\n",
        "    layer.trainable = False\n",
        "\n",
        "x = model.output\n",
        "x = Flatten()(x)\n",
        "x = Dense(1024, activation=\"relu\")(x)\n",
        "x = Dropout(.3)(x)\n",
        "predictions = Dense(33, activation=\"softmax\")(x)\n",
        "model_final = Model(model.input, predictions)\n",
        "\n",
        "model_final.compile(optimizers.RMSprop(learning_rate=0.0001, decay=1e-5),loss='categorical_crossentropy',metrics=['accuracy'])\n",
        "#model_final.summary()"
      ]
    },
    {
      "cell_type": "markdown",
      "metadata": {
        "id": "6qdDU9-qQfp6"
      },
      "source": [
        "Xception\n"
      ]
    },
    {
      "cell_type": "code",
      "execution_count": null,
      "metadata": {
        "colab": {
          "base_uri": "https://localhost:8080/"
        },
        "id": "IOmqg4EDQjRk",
        "outputId": "ac076e26-9586-409b-b968-fc10eca391e5"
      },
      "outputs": [
        {
          "metadata": {
            "tags": null
          },
          "name": "stderr",
          "output_type": "stream",
          "text": [
            "WARNING:tensorflow:`period` argument is deprecated. Please use `save_freq` to specify the frequency in number of batches seen.\n",
            "/usr/local/lib/python3.7/dist-packages/ipykernel_launcher.py:9: UserWarning: `Model.fit_generator` is deprecated and will be removed in a future version. Please use `Model.fit`, which supports generators.\n",
            "  if __name__ == '__main__':\n"
          ]
        },
        {
          "output_type": "stream",
          "name": "stdout",
          "text": [
            "Epoch 1/25\n",
            "150/150 [==============================] - ETA: 0s - loss: 1.7417 - accuracy: 0.5244 \n",
            "Epoch 1: loss improved from inf to 1.74173, saving model to vgg16_1.h5\n",
            "150/150 [==============================] - 2635s 17s/step - loss: 1.7417 - accuracy: 0.5244\n",
            "Epoch 2/25\n",
            "150/150 [==============================] - ETA: 0s - loss: 0.5777 - accuracy: 0.8169 \n",
            "Epoch 2: loss improved from 1.74173 to 0.57774, saving model to vgg16_1.h5\n",
            "150/150 [==============================] - 2529s 17s/step - loss: 0.5777 - accuracy: 0.8169\n",
            "Epoch 3/25\n",
            "150/150 [==============================] - ETA: 0s - loss: 0.3312 - accuracy: 0.8958 \n",
            "Epoch 3: loss improved from 0.57774 to 0.33124, saving model to vgg16_1.h5\n",
            "150/150 [==============================] - 2544s 17s/step - loss: 0.3312 - accuracy: 0.8958\n",
            "Epoch 4/25\n",
            "150/150 [==============================] - ETA: 0s - loss: 0.2358 - accuracy: 0.9223 \n",
            "Epoch 4: loss improved from 0.33124 to 0.23584, saving model to vgg16_1.h5\n",
            "150/150 [==============================] - 2540s 17s/step - loss: 0.2358 - accuracy: 0.9223\n",
            "Epoch 5/25\n",
            "136/150 [==========================>...] - ETA: 4:03 - loss: 0.1899 - accuracy: 0.9391"
          ]
        }
      ],
      "source": [
        "checkpoint = ModelCheckpoint(\"vgg16_1.h5\", monitor='loss', verbose=1, save_best_only=True, save_weights_only=False, mode='auto', period=1)\n",
        "early = EarlyStopping(monitor='loss', min_delta=0.0001, patience=7, verbose=2, mode='auto')\n",
        "hist = model_final.fit_generator(generator=train_generator,                   \n",
        "                                    steps_per_epoch=150,\n",
        "                                    validation_data=test_generator,                    \n",
        "                                    validation_steps=10,\n",
        "                                    epochs=25,\n",
        "                                    callbacks = [checkpoint, early],\n",
        "                                    verbose=1)"
      ]
    },
    {
      "cell_type": "code",
      "source": [
        "Y_pred = model.predict_generator(test_generator, 10 // 32+1)\n",
        "y_pred = np.argmax(Y_pred, axiz=1)\n",
        "print('Confusion Matrix')\n",
        "print(confusion_matrix(test_generator.classes, y_pred))\n",
        "print('Classification Report')\n",
        "target_names = ['Apple Braeburn',\n",
        "'Apple Granny Smith',\n",
        "'Apricot',\n",
        "'Avocado',\n",
        "'Banana',\n",
        "'Blueberry',\n",
        "'Cactus fruit',\n",
        "'Cantaloupe',\n",
        "'Cherry',\n",
        "'Clementine',\n",
        "'Corn',\n",
        "'Cucumber RIpe',\n",
        "'Grape blue',\n",
        "'Kiwi',\n",
        "'Lemon',\n",
        "'Limes',\n",
        "'Mango',\n",
        "'Onion White',\n",
        "'Orange',\n",
        "'Papaya',\n",
        "'Passion fruit',\n",
        "'Peach',\n",
        "'Pear',\n",
        "'Pepper Green',\n",
        "'Pepper Red',\n",
        "'Pineapple',\n",
        "'Plum',\n",
        "'Pomegranate',\n",
        "'Potato Red',\n",
        "'Raspberry',\n",
        "'Strawberry',\n",
        "'Tomato',\n",
        "'Watermelon']"
      ],
      "metadata": {
        "id": "o_XE_kjd7qwQ"
      },
      "execution_count": null,
      "outputs": []
    },
    {
      "cell_type": "markdown",
      "metadata": {
        "id": "hrRU_VBtS3IH"
      },
      "source": [
        "Plot Xception"
      ]
    },
    {
      "cell_type": "code",
      "execution_count": null,
      "metadata": {
        "id": "5ac8fe9iS4af"
      },
      "outputs": [],
      "source": [
        "import matplotlib.pyplot as plt\n",
        "plt.plot(hist.history[\"loss\"])\n",
        "plt.plot(hist.history[\"accuracy\"])\n",
        "#plt.plot(hist.history[\"val_loss\"])\n",
        "#plt.plot(hist.history[\"val_accuracy\"])\n",
        "plt.legend([\"loss\", \"val_accuracy\"])\n",
        "plt.show()"
      ]
    }
  ],
  "metadata": {
    "accelerator": "GPU",
    "colab": {
      "provenance": [],
      "collapsed_sections": [],
      "include_colab_link": true
    },
    "gpuClass": "standard",
    "kernelspec": {
      "display_name": "Python 3",
      "name": "python3"
    },
    "language_info": {
      "name": "python"
    }
  },
  "nbformat": 4,
  "nbformat_minor": 0
}
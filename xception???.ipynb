{
  "cells": [
    {
      "cell_type": "markdown",
      "metadata": {
        "id": "view-in-github",
        "colab_type": "text"
      },
      "source": [
        "<a href=\"https://colab.research.google.com/github/mary-ts/Neural-Computing/blob/mary/xception%3F%3F%3F.ipynb\" target=\"_parent\"><img src=\"https://colab.research.google.com/assets/colab-badge.svg\" alt=\"Open In Colab\"/></a>"
      ]
    },
    {
      "cell_type": "markdown",
      "metadata": {
        "id": "pVhvb2zpFJjj"
      },
      "source": [
        "Imports"
      ]
    },
    {
      "cell_type": "code",
      "execution_count": null,
      "metadata": {
        "colab": {
          "base_uri": "https://localhost:8080/"
        },
        "id": "oP5Qk3nRrJ8W",
        "outputId": "beb90bf7-5d25-45f9-9aa9-72a18c10f4dc"
      },
      "outputs": [
        {
          "name": "stdout",
          "output_type": "stream",
          "text": [
            "Drive already mounted at /content/drive; to attempt to forcibly remount, call drive.mount(\"/content/drive\", force_remount=True).\n"
          ]
        }
      ],
      "source": [
        "from google.colab import drive\n",
        "drive.mount('/content/drive')"
      ]
    },
    {
      "cell_type": "code",
      "execution_count": null,
      "metadata": {
        "id": "0UtFlsCx3p7v"
      },
      "outputs": [],
      "source": [
        "import numpy as np\n",
        "import pandas as pd\n",
        "import matplotlib.pyplot as plt\n",
        "import tensorflow as tf\n",
        "import keras\n",
        "import keras.layers as layers\n",
        "from keras import Sequential\n",
        "import keras.models\n",
        "from keras.layers import *\n",
        "from keras.models import * \n",
        "from keras import optimizers, applications\n",
        "from keras.preprocessing import image\n",
        "from keras.callbacks import ModelCheckpoint, EarlyStopping"
      ]
    },
    {
      "cell_type": "markdown",
      "metadata": {
        "id": "TkKj_nmXFMVx"
      },
      "source": [
        "Dataset Paths"
      ]
    },
    {
      "cell_type": "code",
      "execution_count": null,
      "metadata": {
        "id": "wLUXspsC3r59"
      },
      "outputs": [],
      "source": [
        "train_path = \"/content/drive/MyDrive/CNN IMAGES/Fruit_dataset/MY_data/train\"\n",
        "test_path = \"/content/drive/MyDrive/CNN IMAGES/Fruit_dataset/MY_data/test\"\n",
        "val_path = \"/content/drive/MyDrive/CNN IMAGES/Fruit_dataset/MY_data/predict\""
      ]
    },
    {
      "cell_type": "markdown",
      "metadata": {
        "id": "K3FzUSSnFPBX"
      },
      "source": [
        "Creating training and test data"
      ]
    },
    {
      "cell_type": "code",
      "execution_count": null,
      "metadata": {
        "id": "2BnRGnO1_Gid"
      },
      "outputs": [],
      "source": [
        "train_datagen = image.ImageDataGenerator(\n",
        "    rotation_range=15,\n",
        "    shear_range=0.2,\n",
        "    zoom_range=0.2,\n",
        "    horizontal_flip=True,\n",
        "    fill_mode='nearest',\n",
        "    width_shift_range=0.1,\n",
        "    height_shift_range=0.1\n",
        ")\n",
        "test_datagen= image.ImageDataGenerator(    \n",
        "    rotation_range=15,\n",
        "    shear_range=0.2,\n",
        "    zoom_range=0.2,\n",
        "    horizontal_flip=True,\n",
        "    fill_mode='nearest',\n",
        "    width_shift_range=0.1,\n",
        "    height_shift_range=0.1)\n",
        "\n",
        "val_datagen= image.ImageDataGenerator(    \n",
        "    rotation_range=15,\n",
        "    shear_range=0.2,\n",
        "    zoom_range=0.2,\n",
        "    horizontal_flip=True,\n",
        "    fill_mode='nearest',\n",
        "    width_shift_range=0.1,\n",
        "    height_shift_range=0.1)"
      ]
    },
    {
      "cell_type": "markdown",
      "metadata": {
        "id": "mLIPKlW7FT4b"
      },
      "source": [
        "Importing data into generators"
      ]
    },
    {
      "cell_type": "code",
      "execution_count": null,
      "metadata": {
        "colab": {
          "base_uri": "https://localhost:8080/"
        },
        "id": "ohGl3H5QC1KJ",
        "outputId": "52c68a38-5dae-4e77-ce15-9c657e4fbb02"
      },
      "outputs": [
        {
          "name": "stdout",
          "output_type": "stream",
          "text": [
            "Found 2301 images belonging to 10 classes.\n",
            "Found 1025 images belonging to 10 classes.\n",
            "Found 48 images belonging to 10 classes.\n"
          ]
        }
      ],
      "source": [
        "train_generator = train_datagen.flow_from_directory(\n",
        "    train_path,\n",
        "    target_size = (224,224),\n",
        "    batch_size = 8,\n",
        "    class_mode = 'categorical', \n",
        "    shuffle=True)\n",
        "\n",
        "test_generator = test_datagen.flow_from_directory(\n",
        "    test_path,\n",
        "    target_size = (224,224),\n",
        "    batch_size = 8,\n",
        "    shuffle=True,\n",
        "    class_mode = 'categorical')\n",
        "\n",
        "val_generator = val_datagen.flow_from_directory(\n",
        "    val_path,\n",
        "    target_size = (224,224),\n",
        "    batch_size = 4,\n",
        "    shuffle=True,\n",
        "    class_mode = 'categorical')"
      ]
    },
    {
      "cell_type": "markdown",
      "metadata": {
        "id": "zx24OGvzOMqY"
      },
      "source": [
        "Xception Model"
      ]
    },
    {
      "cell_type": "code",
      "execution_count": null,
      "metadata": {
        "colab": {
          "base_uri": "https://localhost:8080/"
        },
        "id": "zvYME2sPOLnB",
        "outputId": "3a65c7f4-f1d2-43e4-a8e6-67d74fdcd50a"
      },
      "outputs": [
        {
          "name": "stdout",
          "output_type": "stream",
          "text": [
            "Downloading data from https://storage.googleapis.com/tensorflow/keras-applications/xception/xception_weights_tf_dim_ordering_tf_kernels_notop.h5\n",
            "83683744/83683744 [==============================] - 0s 0us/step\n"
          ]
        }
      ],
      "source": [
        "model = applications.Xception(weights='imagenet', \n",
        "                              include_top=False, \n",
        "                              input_shape=(224, 224, 3))\n",
        "\n",
        "for layer in model.layers[:-5]:\n",
        "    layer.trainable = False\n",
        "\n",
        "x = model.output\n",
        "x = Flatten()(x)\n",
        "x = Dense(1024, activation=\"relu\")(x)\n",
        "x = Dropout(.3)(x)\n",
        "predictions = Dense(10, activation=\"softmax\")(x)\n",
        "model_final = Model(model.input, predictions)\n",
        "\n",
        "model_final.compile(optimizers.RMSprop(learning_rate=0.0001, decay=1e-5),loss='categorical_crossentropy',metrics=['accuracy'])\n",
        "#model_final.summary()"
      ]
    },
    {
      "cell_type": "markdown",
      "metadata": {
        "id": "6qdDU9-qQfp6"
      },
      "source": [
        "Xception\n"
      ]
    },
    {
      "cell_type": "code",
      "execution_count": null,
      "metadata": {
        "colab": {
          "background_save": true,
          "base_uri": "https://localhost:8080/"
        },
        "id": "IOmqg4EDQjRk",
        "outputId": "643eab6c-1a2d-4a32-c0d0-220340e95f4c"
      },
      "outputs": [
        {
          "name": "stderr",
          "output_type": "stream",
          "text": [
            "WARNING:tensorflow:`period` argument is deprecated. Please use `save_freq` to specify the frequency in number of batches seen.\n",
            "/usr/local/lib/python3.7/dist-packages/ipykernel_launcher.py:9: UserWarning: `Model.fit_generator` is deprecated and will be removed in a future version. Please use `Model.fit`, which supports generators.\n",
            "  if __name__ == '__main__':\n"
          ]
        },
        {
          "name": "stdout",
          "output_type": "stream",
          "text": [
            "Epoch 1/25\n",
            "\n",
            "Epoch 1: val_loss improved from inf to 2.30260, saving model to vgg16_1.h5\n",
            "150/150 - 482s - loss: 2.9159 - accuracy: 0.1495 - val_loss: 2.3026 - val_accuracy: 0.1125 - 482s/epoch - 3s/step\n",
            "Epoch 2/25\n",
            "\n",
            "Epoch 2: val_loss did not improve from 2.30260\n",
            "150/150 - 461s - loss: 2.3146 - accuracy: 0.2233 - val_loss: 2.4358 - val_accuracy: 0.1750 - 461s/epoch - 3s/step\n",
            "Epoch 3/25\n",
            "\n",
            "Epoch 3: val_loss did not improve from 2.30260\n",
            "150/150 - 447s - loss: 2.2885 - accuracy: 0.2492 - val_loss: 2.3497 - val_accuracy: 0.2500 - 447s/epoch - 3s/step\n",
            "Epoch 4/25\n",
            "\n",
            "Epoch 4: val_loss improved from 2.30260 to 2.01718, saving model to vgg16_1.h5\n",
            "150/150 - 452s - loss: 2.1712 - accuracy: 0.2800 - val_loss: 2.0172 - val_accuracy: 0.3125 - 452s/epoch - 3s/step\n",
            "Epoch 5/25\n",
            "\n",
            "Epoch 5: val_loss did not improve from 2.01718\n",
            "150/150 - 445s - loss: 2.1516 - accuracy: 0.3167 - val_loss: 2.1841 - val_accuracy: 0.2750 - 445s/epoch - 3s/step\n",
            "Epoch 6/25\n",
            "\n",
            "Epoch 6: val_loss did not improve from 2.01718\n",
            "150/150 - 435s - loss: 2.0497 - accuracy: 0.3258 - val_loss: 2.1792 - val_accuracy: 0.2625 - 435s/epoch - 3s/step\n",
            "Epoch 7/25\n",
            "\n",
            "Epoch 7: val_loss did not improve from 2.01718\n",
            "150/150 - 441s - loss: 2.0294 - accuracy: 0.3467 - val_loss: 2.3152 - val_accuracy: 0.2875 - 441s/epoch - 3s/step\n",
            "Epoch 8/25\n",
            "\n",
            "Epoch 8: val_loss did not improve from 2.01718\n",
            "150/150 - 442s - loss: 1.9879 - accuracy: 0.3601 - val_loss: 2.2719 - val_accuracy: 0.2125 - 442s/epoch - 3s/step\n",
            "Epoch 9/25\n",
            "\n",
            "Epoch 9: val_loss did not improve from 2.01718\n",
            "150/150 - 438s - loss: 1.9381 - accuracy: 0.3592 - val_loss: 2.1379 - val_accuracy: 0.3125 - 438s/epoch - 3s/step\n",
            "Epoch 10/25\n",
            "\n",
            "Epoch 10: val_loss improved from 2.01718 to 2.01353, saving model to vgg16_1.h5\n",
            "150/150 - 442s - loss: 1.9095 - accuracy: 0.3993 - val_loss: 2.0135 - val_accuracy: 0.3625 - 442s/epoch - 3s/step\n",
            "Epoch 11/25\n",
            "\n",
            "Epoch 11: val_loss improved from 2.01353 to 1.91214, saving model to vgg16_1.h5\n",
            "150/150 - 445s - loss: 1.9011 - accuracy: 0.3784 - val_loss: 1.9121 - val_accuracy: 0.3375 - 445s/epoch - 3s/step\n",
            "Epoch 12/25\n",
            "\n",
            "Epoch 12: val_loss improved from 1.91214 to 1.78431, saving model to vgg16_1.h5\n",
            "150/150 - 443s - loss: 1.8968 - accuracy: 0.3933 - val_loss: 1.7843 - val_accuracy: 0.4000 - 443s/epoch - 3s/step\n",
            "Epoch 13/25\n",
            "\n",
            "Epoch 13: val_loss did not improve from 1.78431\n",
            "150/150 - 438s - loss: 1.8335 - accuracy: 0.4144 - val_loss: 2.0069 - val_accuracy: 0.4250 - 438s/epoch - 3s/step\n",
            "Epoch 14/25\n",
            "\n",
            "Epoch 14: val_loss did not improve from 1.78431\n",
            "150/150 - 436s - loss: 1.8581 - accuracy: 0.4250 - val_loss: 2.1345 - val_accuracy: 0.2875 - 436s/epoch - 3s/step\n",
            "Epoch 15/25\n",
            "\n",
            "Epoch 15: val_loss did not improve from 1.78431\n",
            "150/150 - 429s - loss: 1.7733 - accuracy: 0.4317 - val_loss: 2.1711 - val_accuracy: 0.2625 - 429s/epoch - 3s/step\n",
            "Epoch 16/25\n",
            "\n",
            "Epoch 16: val_loss did not improve from 1.78431\n",
            "150/150 - 432s - loss: 1.8152 - accuracy: 0.4450 - val_loss: 2.1858 - val_accuracy: 0.4000 - 432s/epoch - 3s/step\n",
            "Epoch 17/25\n",
            "\n",
            "Epoch 17: val_loss did not improve from 1.78431\n",
            "150/150 - 430s - loss: 1.7515 - accuracy: 0.4208 - val_loss: 2.1967 - val_accuracy: 0.3625 - 430s/epoch - 3s/step\n",
            "Epoch 18/25\n",
            "\n",
            "Epoch 18: val_loss did not improve from 1.78431\n",
            "150/150 - 434s - loss: 1.7047 - accuracy: 0.4520 - val_loss: 2.2083 - val_accuracy: 0.3625 - 434s/epoch - 3s/step\n",
            "Epoch 19/25\n",
            "\n",
            "Epoch 19: val_loss did not improve from 1.78431\n",
            "150/150 - 431s - loss: 1.6746 - accuracy: 0.4553 - val_loss: 1.9997 - val_accuracy: 0.3625 - 431s/epoch - 3s/step\n",
            "Epoch 20/25\n",
            "\n",
            "Epoch 20: val_loss did not improve from 1.78431\n",
            "150/150 - 429s - loss: 1.7881 - accuracy: 0.4436 - val_loss: 1.8456 - val_accuracy: 0.4000 - 429s/epoch - 3s/step\n",
            "Epoch 21/25\n",
            "\n",
            "Epoch 21: val_loss did not improve from 1.78431\n",
            "150/150 - 429s - loss: 1.6919 - accuracy: 0.4754 - val_loss: 1.9422 - val_accuracy: 0.3750 - 429s/epoch - 3s/step\n",
            "Epoch 22/25\n",
            "\n",
            "Epoch 22: val_loss did not improve from 1.78431\n",
            "150/150 - 427s - loss: 1.6680 - accuracy: 0.4795 - val_loss: 2.0823 - val_accuracy: 0.3750 - 427s/epoch - 3s/step\n",
            "Epoch 23/25\n",
            "\n",
            "Epoch 23: val_loss did not improve from 1.78431\n",
            "150/150 - 434s - loss: 1.6044 - accuracy: 0.5017 - val_loss: 2.1018 - val_accuracy: 0.3250 - 434s/epoch - 3s/step\n",
            "Epoch 24/25\n",
            "\n",
            "Epoch 24: val_loss did not improve from 1.78431\n",
            "150/150 - 431s - loss: 1.6461 - accuracy: 0.4708 - val_loss: 2.0783 - val_accuracy: 0.4250 - 431s/epoch - 3s/step\n",
            "Epoch 25/25\n",
            "\n",
            "Epoch 25: val_loss did not improve from 1.78431\n",
            "150/150 - 428s - loss: 1.5991 - accuracy: 0.4837 - val_loss: 2.2008 - val_accuracy: 0.3000 - 428s/epoch - 3s/step\n"
          ]
        }
      ],
      "source": [
        "checkpoint = ModelCheckpoint(\"vgg16_1.h5\", monitor='val_loss', verbose=1, save_best_only=True, save_weights_only=False, mode='auto', period=1)\n",
        "#early = EarlyStopping(monitor='val_loss', min_delta=0.0001, patience=7, verbose=2, mode='auto')\n",
        "hist = model_final.fit_generator(generator=train_generator,                   \n",
        "                                    steps_per_epoch=150,\n",
        "                                    validation_data=test_generator,                    \n",
        "                                    validation_steps=10,\n",
        "                                    epochs=25,\n",
        "                                    callbacks = [checkpoint],\n",
        "                                    verbose=2)"
      ]
    },
    {
      "cell_type": "markdown",
      "metadata": {
        "id": "hrRU_VBtS3IH"
      },
      "source": [
        "Plot Xception"
      ]
    },
    {
      "cell_type": "code",
      "execution_count": null,
      "metadata": {
        "colab": {
          "background_save": true
        },
        "id": "5ac8fe9iS4af",
        "outputId": "073d79b2-9900-4ef6-8e8f-482822194363"
      },
      "outputs": [
        {
          "data": {
            "image/png": "[encoded data removed]",
            "text/plain": [
              "<Figure size 432x288 with 1 Axes>"
            ]
          },
          "metadata": {},
          "output_type": "display_data"
        }
      ],
      "source": [
        "import matplotlib.pyplot as plt\n",
        "#plt.plot(hist.history[\"loss\"])\n",
        "plt.plot(hist.history[\"accuracy\"])\n",
        "#plt.plot(hist.history[\"val_loss\"])\n",
        "plt.plot(hist.history[\"val_accuracy\"])\n",
        "plt.legend([\"accuracy\", \"val_accuracy\"])\n",
        "plt.show()"
      ]
    }
  ],
  "metadata": {
    "accelerator": "GPU",
    "colab": {
      "provenance": [],
      "include_colab_link": true
    },
    "gpuClass": "standard",
    "kernelspec": {
      "display_name": "Python 3",
      "name": "python3"
    },
    "language_info": {
      "name": "python"
    }
  },
  "nbformat": 4,
  "nbformat_minor": 0
}
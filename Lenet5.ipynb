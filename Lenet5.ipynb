{
  "nbformat": 4,
  "nbformat_minor": 0,
  "metadata": {
    "colab": {
      "provenance": [],
      "mount_file_id": "https://github.com/mary-ts/Neural-Computing/blob/padi/Untitled1.ipynb",
      "authorship_tag": "ABX9TyOrX7tkvYRcv+c4P8lpKXzF",
      "include_colab_link": true
    },
    "kernelspec": {
      "name": "python3",
      "display_name": "Python 3"
    },
    "language_info": {
      "name": "python"
    },
    "accelerator": "GPU"
  },
  "cells": [
    {
      "cell_type": "markdown",
      "metadata": {
        "id": "view-in-github",
        "colab_type": "text"
      },
      "source": [
        "<a href=\"https://colab.research.google.com/github/mary-ts/Neural-Computing/blob/padi/Lenet5.ipynb\" target=\"_parent\"><img src=\"https://colab.research.google.com/assets/colab-badge.svg\" alt=\"Open In Colab\"/></a>"
      ]
    },
    {
      "cell_type": "code",
      "execution_count": 24,
      "metadata": {
        "id": "xHXQI1cJ3StM"
      },
      "outputs": [],
      "source": [
        "import numpy as np\n",
        "import pandas as pd"
      ]
    },
    {
      "cell_type": "code",
      "source": [
        "import numpy as np\n",
        "import numpy as np\n",
        "import pandas as pd\n",
        "import matplotlib.pyplot as plt\n",
        "import tensorflow as tf\n",
        "from keras import Sequential\n",
        "from tensorflow.keras.layers import *\n",
        "from tensorflow.keras.models import * \n",
        "from tensorflow.keras.preprocessing import image"
      ],
      "metadata": {
        "id": "0UtFlsCx3p7v"
      },
      "execution_count": 25,
      "outputs": []
    },
    {
      "cell_type": "code",
      "source": [
        "train_path = \"/content/drive/MyDrive/CNN IMAGES/Fruit_dataset/MY_data/train\"\n",
        "test_path = \"/content/drive/MyDrive/CNN IMAGES/Fruit_dataset/MY_data/test\"\n",
        "val_path = \"/content/drive/MyDrive/CNN IMAGES/Fruit_dataset/MY_data/predict\""
      ],
      "metadata": {
        "id": "wLUXspsC3r59"
      },
      "execution_count": 26,
      "outputs": []
    },
    {
      "cell_type": "code",
      "source": [
        "train_datagen = image.ImageDataGenerator(\n",
        "    rotation_range=15,\n",
        "    shear_range=0.2,\n",
        "    zoom_range=0.2,\n",
        "    horizontal_flip=True,\n",
        "    fill_mode='nearest',\n",
        "    width_shift_range=0.1,\n",
        "    height_shift_range=0.1\n",
        ")\n",
        "test_datagen= image.ImageDataGenerator(    \n",
        "    rotation_range=15,\n",
        "    shear_range=0.2,\n",
        "    zoom_range=0.2,\n",
        "    horizontal_flip=True,\n",
        "    fill_mode='nearest',\n",
        "    width_shift_range=0.1,\n",
        "    height_shift_range=0.1)\n",
        "\n",
        "val_datagen= image.ImageDataGenerator(    \n",
        "    rotation_range=15,\n",
        "    shear_range=0.2,\n",
        "    zoom_range=0.2,\n",
        "    horizontal_flip=True,\n",
        "    fill_mode='nearest',\n",
        "    width_shift_range=0.1,\n",
        "    height_shift_range=0.1)"
      ],
      "metadata": {
        "id": "2BnRGnO1_Gid"
      },
      "execution_count": 27,
      "outputs": []
    },
    {
      "cell_type": "code",
      "source": [
        "train_generator = train_datagen.flow_from_directory(\n",
        "    train_path,\n",
        "    target_size = (224,224),\n",
        "    batch_size = 4,\n",
        "    class_mode = 'categorical', \n",
        "    shuffle=True)\n",
        "\n",
        "test_generator = test_datagen.flow_from_directory(\n",
        "    test_path,\n",
        "    target_size = (224,224),\n",
        "    batch_size = 4,\n",
        "    shuffle=True,\n",
        "    class_mode = 'categorical')\n",
        "\n",
        "val_generator = val_datagen.flow_from_directory(\n",
        "    test_path,\n",
        "    target_size = (224,224),\n",
        "    batch_size = 4,\n",
        "    shuffle=True,\n",
        "    class_mode = 'categorical')"
      ],
      "metadata": {
        "colab": {
          "base_uri": "https://localhost:8080/"
        },
        "id": "ohGl3H5QC1KJ",
        "outputId": "8d2ce274-6556-48a0-a682-eed3eba7ed00"
      },
      "execution_count": 28,
      "outputs": [
        {
          "output_type": "stream",
          "name": "stdout",
          "text": [
            "Found 2301 images belonging to 10 classes.\n",
            "Found 1025 images belonging to 10 classes.\n",
            "Found 1025 images belonging to 10 classes.\n"
          ]
        }
      ]
    },
    {
      "cell_type": "code",
      "source": [
        "model = Sequential()\n",
        "model.add(Conv2D(6, kernel_size=5, strides=1,  activation='tanh', input_shape=(224,224,3), padding='same')) #C1\n",
        "model.add(AveragePooling2D()) #S2\n",
        "model.add(Conv2D(16, kernel_size=5, strides=1, activation='tanh', padding='valid')) #C3\n",
        "model.add(AveragePooling2D()) #S4\n",
        "model.add(Conv2D(120, kernel_size=5, strides=1, activation='tanh', padding='valid')) #C5\n",
        "model.add(Flatten()) #Flatten    \n",
        "model.add(Dense(84, activation='tanh')) #F6\n",
        "model.add(Dense(10, activation='softmax'))\n",
        "#model.add(Conv2D(input_shape=(224,224,3),filters=64,kernel_size=(3,3),padding=\"same\", activation=\"relu\"))\n",
        "#model.add(Conv2D(filters=64,kernel_size=(3,3),padding=\"same\", activation=\"relu\"))\n",
        "#model.add(MaxPool2D(pool_size=(2,2),strides=(2,2)))\n",
        "#model.add(Conv2D(filters=128, kernel_size=(3,3), padding=\"same\", activation=\"relu\"))\n",
        "#model.add(Conv2D(filters=128, kernel_size=(3,3), padding=\"same\", activation=\"relu\"))\n",
        "#model.add(MaxPool2D(pool_size=(2,2),strides=(2,2)))\n",
        "#model.add(Conv2D(filters=256, kernel_size=(3,3), padding=\"same\", activation=\"relu\"))\n",
        "#model.add(Conv2D(filters=256, kernel_size=(3,3), padding=\"same\", activation=\"relu\"))\n",
        "#model.add(Conv2D(filters=256, kernel_size=(3,3), padding=\"same\", activation=\"relu\"))\n",
        "#model.add(MaxPool2D(pool_size=(2,2),strides=(2,2)))\n",
        "#model.add(Conv2D(filters=512, kernel_size=(3,3), padding=\"same\", activation=\"relu\"))\n",
        "#model.add(Conv2D(filters=512, kernel_size=(3,3), padding=\"same\", activation=\"relu\"))\n",
        "#model.add(Conv2D(filters=512, kernel_size=(3,3), padding=\"same\", activation=\"relu\"))\n",
        "#model.add(MaxPool2D(pool_size=(2,2),strides=(2,2)))\n",
        "#model.add(Conv2D(filters=512, kernel_size=(3,3), padding=\"same\", activation=\"relu\"))\n",
        "#model.add(Conv2D(filters=512, kernel_size=(3,3), padding=\"same\", activation=\"relu\"))\n",
        "#model.add(Conv2D(filters=512, kernel_size=(3,3), padding=\"same\", activation=\"relu\"))\n",
        "#model.add(MaxPool2D(pool_size=(2,2),strides=(2,2)))\n",
        "model.summary()"
      ],
      "metadata": {
        "colab": {
          "base_uri": "https://localhost:8080/"
        },
        "id": "9bN8QBGfC3Xd",
        "outputId": "f5875496-fee3-40ef-9b97-3906d6337a40"
      },
      "execution_count": 29,
      "outputs": [
        {
          "output_type": "stream",
          "name": "stdout",
          "text": [
            "Model: \"sequential_2\"\n",
            "_________________________________________________________________\n",
            " Layer (type)                Output Shape              Param #   \n",
            "=================================================================\n",
            " conv2d_6 (Conv2D)           (None, 224, 224, 6)       456       \n",
            "                                                                 \n",
            " average_pooling2d_4 (Averag  (None, 112, 112, 6)      0         \n",
            " ePooling2D)                                                     \n",
            "                                                                 \n",
            " conv2d_7 (Conv2D)           (None, 108, 108, 16)      2416      \n",
            "                                                                 \n",
            " average_pooling2d_5 (Averag  (None, 54, 54, 16)       0         \n",
            " ePooling2D)                                                     \n",
            "                                                                 \n",
            " conv2d_8 (Conv2D)           (None, 50, 50, 120)       48120     \n",
            "                                                                 \n",
            " flatten_2 (Flatten)         (None, 300000)            0         \n",
            "                                                                 \n",
            " dense_4 (Dense)             (None, 84)                25200084  \n",
            "                                                                 \n",
            " dense_5 (Dense)             (None, 10)                850       \n",
            "                                                                 \n",
            "=================================================================\n",
            "Total params: 25,251,926\n",
            "Trainable params: 25,251,926\n",
            "Non-trainable params: 0\n",
            "_________________________________________________________________\n"
          ]
        }
      ]
    },
    {
      "cell_type": "code",
      "source": [
        "#model.add(Flatten())\n",
        "#model.add(Dense(units=4096,activation=\"relu\"))\n",
        "#model.add(Dense(units=4096,activation=\"relu\"))\n",
        "#model.add(Dense(units=10, activation=\"softmax\"))"
      ],
      "metadata": {
        "id": "MviBE_vOG0Kt"
      },
      "execution_count": 30,
      "outputs": []
    },
    {
      "cell_type": "code",
      "source": [
        "model.compile(loss='categorical_crossentropy',\n",
        "              optimizer='adam',\n",
        "              metrics=['accuracy'])"
      ],
      "metadata": {
        "id": "wQJ9k8F6C525"
      },
      "execution_count": 31,
      "outputs": []
    },
    {
      "cell_type": "code",
      "source": [
        "from keras.callbacks import ModelCheckpoint, EarlyStopping\n",
        "checkpoint = ModelCheckpoint(\"vgg16_1.h5\", monitor='val_accuracy', verbose=1, save_best_only=True, save_weights_only=False, mode='auto', period=1)\n",
        "early = EarlyStopping(monitor='val_accuracy', min_delta=0, patience=20, verbose=1, mode='auto')\n",
        "hist = model.fit_generator(steps_per_epoch=100,generator=train_generator, validation_data= test_generator, validation_steps=10,epochs=10,callbacks=[checkpoint,early])"
      ],
      "metadata": {
        "colab": {
          "base_uri": "https://localhost:8080/"
        },
        "id": "pKgmIm5RC-fO",
        "outputId": "b68c569c-10d6-4971-9fe0-e71e4ae16986"
      },
      "execution_count": 32,
      "outputs": [
        {
          "output_type": "stream",
          "name": "stderr",
          "text": [
            "WARNING:tensorflow:`period` argument is deprecated. Please use `save_freq` to specify the frequency in number of batches seen.\n"
          ]
        },
        {
          "output_type": "stream",
          "name": "stdout",
          "text": [
            "Epoch 1/10\n"
          ]
        },
        {
          "output_type": "stream",
          "name": "stderr",
          "text": [
            "/usr/local/lib/python3.7/dist-packages/ipykernel_launcher.py:4: UserWarning: `Model.fit_generator` is deprecated and will be removed in a future version. Please use `Model.fit`, which supports generators.\n",
            "  after removing the cwd from sys.path.\n"
          ]
        },
        {
          "output_type": "stream",
          "name": "stdout",
          "text": [
            "100/100 [==============================] - ETA: 0s - loss: 3.8512 - accuracy: 0.1033\n",
            "Epoch 1: val_accuracy improved from -inf to 0.12500, saving model to vgg16_1.h5\n",
            "100/100 [==============================] - 8s 75ms/step - loss: 3.8512 - accuracy: 0.1033 - val_loss: 2.3514 - val_accuracy: 0.1250\n",
            "Epoch 2/10\n",
            "100/100 [==============================] - ETA: 0s - loss: 2.7339 - accuracy: 0.1100\n",
            "Epoch 2: val_accuracy did not improve from 0.12500\n",
            "100/100 [==============================] - 6s 63ms/step - loss: 2.7339 - accuracy: 0.1100 - val_loss: 2.3188 - val_accuracy: 0.0250\n",
            "Epoch 3/10\n",
            "100/100 [==============================] - ETA: 0s - loss: 2.3341 - accuracy: 0.0825\n",
            "Epoch 3: val_accuracy did not improve from 0.12500\n",
            "100/100 [==============================] - 6s 63ms/step - loss: 2.3341 - accuracy: 0.0825 - val_loss: 2.3173 - val_accuracy: 0.1000\n",
            "Epoch 4/10\n",
            "100/100 [==============================] - ETA: 0s - loss: 2.3363 - accuracy: 0.0850\n",
            "Epoch 4: val_accuracy did not improve from 0.12500\n",
            "100/100 [==============================] - 6s 63ms/step - loss: 2.3363 - accuracy: 0.0850 - val_loss: 2.3145 - val_accuracy: 0.0750\n",
            "Epoch 5/10\n",
            "100/100 [==============================] - ETA: 0s - loss: 2.3206 - accuracy: 0.0950\n",
            "Epoch 5: val_accuracy did not improve from 0.12500\n",
            "100/100 [==============================] - 7s 73ms/step - loss: 2.3206 - accuracy: 0.0950 - val_loss: 2.3913 - val_accuracy: 0.0750\n",
            "Epoch 6/10\n",
            "100/100 [==============================] - ETA: 0s - loss: 2.3348 - accuracy: 0.0925\n",
            "Epoch 6: val_accuracy did not improve from 0.12500\n",
            "100/100 [==============================] - 6s 63ms/step - loss: 2.3348 - accuracy: 0.0925 - val_loss: 2.2936 - val_accuracy: 0.0500\n",
            "Epoch 7/10\n",
            "100/100 [==============================] - ETA: 0s - loss: 2.3241 - accuracy: 0.1100\n",
            "Epoch 7: val_accuracy did not improve from 0.12500\n",
            "100/100 [==============================] - 6s 63ms/step - loss: 2.3241 - accuracy: 0.1100 - val_loss: 2.3219 - val_accuracy: 0.0750\n",
            "Epoch 8/10\n",
            "100/100 [==============================] - ETA: 0s - loss: 2.3383 - accuracy: 0.1175\n",
            "Epoch 8: val_accuracy did not improve from 0.12500\n",
            "100/100 [==============================] - 6s 63ms/step - loss: 2.3383 - accuracy: 0.1175 - val_loss: 2.2861 - val_accuracy: 0.1000\n",
            "Epoch 9/10\n",
            "100/100 [==============================] - ETA: 0s - loss: 2.3356 - accuracy: 0.0800\n",
            "Epoch 9: val_accuracy did not improve from 0.12500\n",
            "100/100 [==============================] - 6s 64ms/step - loss: 2.3356 - accuracy: 0.0800 - val_loss: 2.3241 - val_accuracy: 0.1000\n",
            "Epoch 10/10\n",
            "100/100 [==============================] - ETA: 0s - loss: 2.3379 - accuracy: 0.1075\n",
            "Epoch 10: val_accuracy did not improve from 0.12500\n",
            "100/100 [==============================] - 6s 65ms/step - loss: 2.3379 - accuracy: 0.1075 - val_loss: 2.2937 - val_accuracy: 0.0500\n"
          ]
        }
      ]
    },
    {
      "cell_type": "code",
      "source": [
        "model.evaluate(train_generator)"
      ],
      "metadata": {
        "id": "yJp4fb8DC_uQ",
        "outputId": "2ca7cd64-4771-4db0-c506-898168d11a40",
        "colab": {
          "base_uri": "https://localhost:8080/"
        }
      },
      "execution_count": 33,
      "outputs": [
        {
          "output_type": "stream",
          "name": "stdout",
          "text": [
            "576/576 [==============================] - 30s 53ms/step - loss: 2.3263 - accuracy: 0.1000\n"
          ]
        },
        {
          "output_type": "execute_result",
          "data": {
            "text/plain": [
              "[2.3262674808502197, 0.09995654225349426]"
            ]
          },
          "metadata": {},
          "execution_count": 33
        }
      ]
    },
    {
      "cell_type": "code",
      "source": [
        "model.evaluate(test_generator)"
      ],
      "metadata": {
        "id": "727NN-YBDAy5",
        "outputId": "9b1dd853-3e7f-4290-c3a2-fbe3bffc6200",
        "colab": {
          "base_uri": "https://localhost:8080/"
        }
      },
      "execution_count": 34,
      "outputs": [
        {
          "output_type": "stream",
          "name": "stdout",
          "text": [
            "257/257 [==============================] - 14s 53ms/step - loss: 2.3213 - accuracy: 0.1005\n"
          ]
        },
        {
          "output_type": "execute_result",
          "data": {
            "text/plain": [
              "[2.3212647438049316, 0.10048780590295792]"
            ]
          },
          "metadata": {},
          "execution_count": 34
        }
      ]
    },
    {
      "cell_type": "code",
      "source": [
        "model.evaluate(val_generator)"
      ],
      "metadata": {
        "id": "pXEwg3kDlsNk",
        "outputId": "66125a6e-ecdf-4f62-d434-4d0dff7c5ae3",
        "colab": {
          "base_uri": "https://localhost:8080/"
        }
      },
      "execution_count": 35,
      "outputs": [
        {
          "output_type": "stream",
          "name": "stdout",
          "text": [
            "257/257 [==============================] - 14s 53ms/step - loss: 2.3213 - accuracy: 0.1005\n"
          ]
        },
        {
          "output_type": "execute_result",
          "data": {
            "text/plain": [
              "[2.3212640285491943, 0.10048780590295792]"
            ]
          },
          "metadata": {},
          "execution_count": 35
        }
      ]
    },
    {
      "cell_type": "code",
      "source": [
        "import matplotlib.pyplot as plt\n",
        "plt.plot(hist.history[\"accuracy\"])\n",
        "plt.plot(hist.history['val_accuracy'])\n",
        "plt.plot(hist.history['loss'])\n",
        "plt.plot(hist.history['val_loss'])\n",
        "plt.title(\"model accuracy\")\n",
        "plt.ylabel(\"Accuracy\")\n",
        "plt.xlabel(\"Epoch\")\n",
        "plt.legend([\"Accuracy\",\"Validation Accuracy\",\"loss\",\"Validation Loss\"])\n",
        "plt.show()"
      ],
      "metadata": {
        "id": "IMBsqWijW8kJ",
        "outputId": "cf08cbfa-02be-4aa0-84f2-88623a78cc5c",
        "colab": {
          "base_uri": "https://localhost:8080/",
          "height": 295
        }
      },
      "execution_count": 36,
      "outputs": [
        {
          "output_type": "display_data",
          "data": {
            "text/plain": [
              "<Figure size 432x288 with 1 Axes>"
            ],
            "image/png": "[encoded data removed]"
          },
          "metadata": {
            "needs_background": "light"
          }
        }
      ]
    }
  ]
}
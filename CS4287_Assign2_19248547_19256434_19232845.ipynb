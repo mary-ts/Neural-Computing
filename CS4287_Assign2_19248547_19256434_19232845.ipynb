{
  "nbformat": 4,
  "nbformat_minor": 0,
  "metadata": {
    "colab": {
      "provenance": [],
      "authorship_tag": "ABX9TyP/PfhmQ8lVGE2FJoQKpVQf",
      "include_colab_link": true
    },
    "kernelspec": {
      "name": "python3",
      "display_name": "Python 3"
    },
    "language_info": {
      "name": "python"
    }
  },
  "cells": [
    {
      "cell_type": "markdown",
      "metadata": {
        "id": "view-in-github",
        "colab_type": "text"
      },
      "source": [
        "<a href=\"https://colab.research.google.com/github/mary-ts/Neural-Computing/blob/main/CS4287_Assign2_19248547_19256434_19232845.ipynb\" target=\"_parent\"><img src=\"https://colab.research.google.com/assets/colab-badge.svg\" alt=\"Open In Colab\"/></a>"
      ]
    },
    {
      "cell_type": "code",
      "execution_count": null,
      "metadata": {
        "id": "yp0V7qWuKfML"
      },
      "outputs": [],
      "source": [
        "from google.colab import drive\n",
        "drive.mount('/content/drive')"
      ]
    },
    {
      "cell_type": "code",
      "source": [
        "import numpy as np\n",
        "import pandas as pd\n",
        "import matplotlib.pyplot as plt\n",
        "import tensorflow as tf\n",
        "import keras\n",
        "import keras.layers as layers\n",
        "from keras import Sequential\n",
        "import keras.models\n",
        "from keras.layers import *\n",
        "from keras.models import * \n",
        "from keras import optimizers, applications\n",
        "from keras.preprocessing import image\n",
        "from keras.callbacks import ModelCheckpoint, EarlyStopping"
      ],
      "metadata": {
        "id": "ISe4tocQL7Xt"
      },
      "execution_count": null,
      "outputs": []
    },
    {
      "cell_type": "code",
      "source": [
        "train_path = \"/content/drive/MyDrive/CNN IMAGES/archive (1)/train/train\"\n",
        "test_path = \"/content/drive/MyDrive/CNN IMAGES/archive (1)/test/test\""
      ],
      "metadata": {
        "id": "ASe8TtLWMXD-"
      },
      "execution_count": null,
      "outputs": []
    },
    {
      "cell_type": "code",
      "source": [
        "import os\n",
        "from matplotlib import pyplot\n",
        "from matplotlib.image import imread\n",
        "\n",
        "img_dir=\"/content/drive/MyDrive/CNN IMAGES/archive (1)/test/test\"\n",
        "all_files=os.listdir(img_dir)\n",
        "data_path = [os.path.join(img_dir + \"/\" + i) for i in all_files]\n",
        "k=1\n",
        "for i in data_path:\n",
        "  plt.subplot(3,3,k) \n",
        "  k=k+1\n",
        "  plt.imshow(imread(i))\n",
        "  if k == 10:\n",
        "    break\n",
        "\n",
        "plt.show()"
      ],
      "metadata": {
        "id": "8ffdpxohMX66"
      },
      "execution_count": null,
      "outputs": []
    },
    {
      "cell_type": "code",
      "source": [
        "train_datagen = image.ImageDataGenerator(\n",
        "    rotation_range=15,\n",
        "    shear_range=0.2,\n",
        "    zoom_range=0.2,\n",
        "    horizontal_flip=True,\n",
        "    fill_mode='nearest',\n",
        "    width_shift_range=0.1,\n",
        "    height_shift_range=0.1,\n",
        "    validation_split = 0.1,\n",
        "    test_split = 0.1\n",
        ")\n",
        "\n",
        "test_datagen= image.ImageDataGenerator(    \n",
        "    rotation_range=15,\n",
        "    shear_range=0.2,\n",
        "    zoom_range=0.2,\n",
        "    horizontal_flip=True,\n",
        "    fill_mode='nearest',\n",
        "    width_shift_range=0.1,\n",
        "    height_shift_range=0.1)"
      ],
      "metadata": {
        "id": "FdVwtPpoMchm"
      },
      "execution_count": null,
      "outputs": []
    },
    {
      "cell_type": "code",
      "source": [
        "train_generator = train_datagen.flow_from_directory(\n",
        "    train_path,\n",
        "    target_size = (299,299),\n",
        "    batch_size = 32,\n",
        "    class_mode = 'categorical', \n",
        "    shuffle=True)\n",
        "\n",
        "test_generator = test_datagen.flow_from_directory(\n",
        "    test_path,\n",
        "    target_size = (299,299),\n",
        "    batch_size = 32,\n",
        "    shuffle=True,\n",
        "    class_mode = 'categorical')"
      ],
      "metadata": {
        "id": "0brVP5TJM0x8"
      },
      "execution_count": null,
      "outputs": []
    },
    {
      "cell_type": "code",
      "source": [
        "base_model = applications.Xception(weights='imagenet', \n",
        "                              include_top=False, \n",
        "                              input_shape=(299, 299, 3))\n",
        "\n",
        "for layer in base_model.layers[:-5]:\n",
        "    layer.trainable = False\n",
        "\n",
        "model = keras.Sequential()\n",
        "model.add(base_model)\n",
        "model.add(keras.layers.Flatten())\n",
        "model.add(keras.layers.Dense(1024, activation=\"relu\"))\n",
        "model.add(keras.layers.Dense(33, activation=\"softmax\"))\n",
        "\n",
        "input_shape = (None, 299, 299, 3)\n",
        "model.build(input_shape)\n",
        "model.compile(optimizers.RMSprop(learning_rate=0.0001, decay=1e-5),loss='categorical_crossentropy',metrics=['accuracy'])\n",
        "model.summary()"
      ],
      "metadata": {
        "id": "oB7uUfVIM_pK"
      },
      "execution_count": null,
      "outputs": []
    },
    {
      "cell_type": "code",
      "source": [
        "checkpoint = ModelCheckpoint(\"xception\", monitor='loss', verbose=1, save_best_only=True, save_weights_only=False, mode='auto', save_freq=1)\n",
        "early = EarlyStopping(monitor='loss', min_delta=0.0001, patience=7, verbose=2, mode='auto')\n",
        "hist = model_final.fit(train_generator,                   \n",
        "                                    steps_per_epoch=batch_size,\n",
        "                                    validation_data=test_generator,                    \n",
        "                                    validation_steps=10,\n",
        "                                    epochs=epochs,\n",
        "                                    callbacks = [checkpoint, early],\n",
        "                                    verbose=1)"
      ],
      "metadata": {
        "id": "s9DnCw_sNAk2"
      },
      "execution_count": null,
      "outputs": []
    },
    {
      "cell_type": "code",
      "source": [
        "import matplotlib.pyplot as plt\n",
        "\n",
        "acc = hist.history['accuracy']\n",
        "val_acc = hist.history['val_accuracy']\n",
        "\n",
        "loss = hist.history['loss']\n",
        "val_loss = hist.history['val_loss']\n",
        "\n",
        "# Accuracy Graph\n",
        "\n",
        "plt.figure(figsize=(8, 8))\n",
        "plt.subplot(2, 1, 1)\n",
        "plt.plot(acc, label='Training Accuracy')\n",
        "plt.plot(val_acc, label='Validation Accuracy')\n",
        "plt.legend(loc='lower right')\n",
        "plt.ylabel('Accuracy')\n",
        "plt.ylim([min(plt.ylim()),1])\n",
        "plt.title('Training and Validation Accuracy')\n",
        "\n",
        "# Loss Graph\n",
        "\n",
        "plt.subplot(2, 1, 2)\n",
        "plt.plot(loss, label='Training Loss')\n",
        "plt.plot(val_loss, label='Validation Loss')\n",
        "plt.legend(loc='upper right')\n",
        "plt.ylabel('Cross Entropy')\n",
        "plt.ylim([0,max(plt.ylim())])\n",
        "plt.title('Training and Validation Loss')\n",
        "plt.show()"
      ],
      "metadata": {
        "id": "3NUHCrRxNbOZ"
      },
      "execution_count": null,
      "outputs": []
    },
    {
      "cell_type": "code",
      "source": [
        "import numpy as np\n",
        "import tensorflow as tf\n",
        "import matplotlib.pyplot as plt\n",
        "from tf_explain.core.activations import ExtractActivations\n",
        "from tensorflow.keras.applications.xception import decode_predictions\n",
        "%matplotlib inline\n",
        "import requests\n",
        "from matplotlib.image import img \n",
        "\n",
        "#loading and preprocessing cat image\n",
        "IMAGE_PATH='/content/drive/MyDrive/CNN IMAGES/archive (1)/test/test/0013.jpg'\n",
        "img=tf.keras.preprocessing.image.load_img(IMAGE_PATH,target_size=(299,299))\n",
        "img=tf.keras.preprocessing.image.img_to_array(img)\n",
        "\n",
        "#view the image\n",
        "plt.imshow(img/255.)"
      ],
      "metadata": {
        "id": "bzxwHBpUNm8l"
      },
      "execution_count": null,
      "outputs": []
    },
    {
      "cell_type": "code",
      "source": [
        "#fetching labels from Imagenet  \n",
        "response=requests.get('https://storage.googleapis.com/download.tensorflow.org/data/imagenet_class_index.json')\n",
        "imgnet_map=response.json()\n",
        "imgnet_map={v[1]:k for k, v in imgnet_map.items()}\n",
        "\n",
        "#make model predictions\n",
        "img=tf.keras.applications.xception.preprocess_input(img)\n",
        "predictions=model.predict(np.array([img]))\n",
        "decode_predictions(predictions,top=5)"
      ],
      "metadata": {
        "id": "nn9Jd9b6NxPX"
      },
      "execution_count": null,
      "outputs": []
    }
  ]
}
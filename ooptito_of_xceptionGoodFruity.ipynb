{
  "cells": [
    {
      "cell_type": "markdown",
      "metadata": {
        "id": "view-in-github",
        "colab_type": "text"
      },
      "source": [
        "<a href=\"https://colab.research.google.com/github/mary-ts/Neural-Computing/blob/tito/ooptito_of_xceptionGoodFruity.ipynb\" target=\"_parent\"><img src=\"https://colab.research.google.com/assets/colab-badge.svg\" alt=\"Open In Colab\"/></a>"
      ]
    },
    {
      "cell_type": "markdown",
      "metadata": {
        "id": "pVhvb2zpFJjj"
      },
      "source": [
        "Imports"
      ]
    },
    {
      "cell_type": "code",
      "execution_count": 2,
      "metadata": {
        "colab": {
          "base_uri": "https://localhost:8080/"
        },
        "id": "oP5Qk3nRrJ8W",
        "outputId": "9bb98d69-f601-487a-a4ec-03b804f7badb"
      },
      "outputs": [
        {
          "output_type": "stream",
          "name": "stdout",
          "text": [
            "Drive already mounted at /content/drive; to attempt to forcibly remount, call drive.mount(\"/content/drive\", force_remount=True).\n"
          ]
        }
      ],
      "source": [
        "from google.colab import drive\n",
        "drive.mount('/content/drive')"
      ]
    },
    {
      "cell_type": "code",
      "execution_count": 3,
      "metadata": {
        "id": "0UtFlsCx3p7v"
      },
      "outputs": [],
      "source": [
        "import numpy as np\n",
        "import pandas as pd\n",
        "import matplotlib.pyplot as plt\n",
        "import tensorflow as tf\n",
        "import keras\n",
        "import keras.layers as layers\n",
        "from keras import Sequential\n",
        "import keras.models\n",
        "from keras.layers import *\n",
        "from keras.models import * \n",
        "from keras import optimizers, applications\n",
        "from keras.preprocessing import image\n",
        "from keras.callbacks import ModelCheckpoint, EarlyStopping\n",
        "from sklearn.model_selection import KFold"
      ]
    },
    {
      "cell_type": "markdown",
      "metadata": {
        "id": "TkKj_nmXFMVx"
      },
      "source": [
        "Dataset Paths"
      ]
    },
    {
      "cell_type": "code",
      "execution_count": 4,
      "metadata": {
        "id": "wLUXspsC3r59"
      },
      "outputs": [],
      "source": [
        "train_path = \"/content/drive/MyDrive/archive (1)/train/train\"\n",
        "test_path = \"/content/drive/MyDrive/archive (1)/test/test\""
      ]
    },
    {
      "cell_type": "markdown",
      "metadata": {
        "id": "K3FzUSSnFPBX"
      },
      "source": [
        "Creating training and test data"
      ]
    },
    {
      "cell_type": "code",
      "execution_count": 5,
      "metadata": {
        "id": "2BnRGnO1_Gid"
      },
      "outputs": [],
      "source": [
        "train_datagen = image.ImageDataGenerator(\n",
        "    rotation_range=15,\n",
        "    shear_range=0.2,\n",
        "    zoom_range=0.2,\n",
        "    horizontal_flip=True,\n",
        "    fill_mode='nearest',\n",
        "    width_shift_range=0.1,\n",
        "    height_shift_range=0.1,\n",
        "    validation_split = 0.2\n",
        ")\n",
        "test_datagen= image.ImageDataGenerator(    \n",
        "    rotation_range=15,\n",
        "    shear_range=0.2,\n",
        "    zoom_range=0.2,\n",
        "    horizontal_flip=True,\n",
        "    fill_mode='nearest',\n",
        "    width_shift_range=0.1,\n",
        "    height_shift_range=0.1)"
      ]
    },
    {
      "cell_type": "markdown",
      "metadata": {
        "id": "mLIPKlW7FT4b"
      },
      "source": [
        "Importing data into generators"
      ]
    },
    {
      "cell_type": "code",
      "execution_count": 6,
      "metadata": {
        "colab": {
          "base_uri": "https://localhost:8080/"
        },
        "id": "ohGl3H5QC1KJ",
        "outputId": "11b4e27e-9fe0-4d23-f690-eedc848cdd40"
      },
      "outputs": [
        {
          "output_type": "stream",
          "name": "stdout",
          "text": [
            "Found 16854 images belonging to 33 classes.\n",
            "Found 0 images belonging to 0 classes.\n"
          ]
        }
      ],
      "source": [
        "train_generator = train_datagen.flow_from_directory(\n",
        "    train_path,\n",
        "    target_size = (299,299),\n",
        "    batch_size = 32,\n",
        "    class_mode = 'categorical', \n",
        "    shuffle=True)\n",
        "\n",
        "test_generator = test_datagen.flow_from_directory(\n",
        "    test_path,\n",
        "    target_size = (299,299),\n",
        "    batch_size = 32,\n",
        "    shuffle=True,\n",
        "    class_mode = 'categorical')"
      ]
    },
    {
      "cell_type": "code",
      "source": [
        "train_data = pd.read_csv('/content/drive/MyDrive/archive (1)/sampleSubmission.csv')\n",
        "Y = train_data[['label']]\n",
        "\n",
        "kf = KFold(n_splits = 5)"
      ],
      "metadata": {
        "id": "qj7JM5vPgVp1"
      },
      "execution_count": 7,
      "outputs": []
    },
    {
      "cell_type": "markdown",
      "metadata": {
        "id": "zx24OGvzOMqY"
      },
      "source": [
        "Xception Model"
      ]
    },
    {
      "cell_type": "code",
      "execution_count": 29,
      "metadata": {
        "id": "zvYME2sPOLnB",
        "colab": {
          "base_uri": "https://localhost:8080/"
        },
        "outputId": "e2740d61-ca55-42ec-9666-d2b29f2105c1"
      },
      "outputs": [
        {
          "output_type": "stream",
          "name": "stdout",
          "text": [
            "Model: \"model_3\"\n",
            "__________________________________________________________________________________________________\n",
            " Layer (type)                   Output Shape         Param #     Connected to                     \n",
            "==================================================================================================\n",
            " input_4 (InputLayer)           [(None, 299, 299, 3  0           []                               \n",
            "                                )]                                                                \n",
            "                                                                                                  \n",
            " block1_conv1 (Conv2D)          (None, 149, 149, 32  864         ['input_4[0][0]']                \n",
            "                                )                                                                 \n",
            "                                                                                                  \n",
            " block1_conv1_bn (BatchNormaliz  (None, 149, 149, 32  128        ['block1_conv1[0][0]']           \n",
            " ation)                         )                                                                 \n",
            "                                                                                                  \n",
            " block1_conv1_act (Activation)  (None, 149, 149, 32  0           ['block1_conv1_bn[0][0]']        \n",
            "                                )                                                                 \n",
            "                                                                                                  \n",
            " block1_conv2 (Conv2D)          (None, 147, 147, 64  18432       ['block1_conv1_act[0][0]']       \n",
            "                                )                                                                 \n",
            "                                                                                                  \n",
            " block1_conv2_bn (BatchNormaliz  (None, 147, 147, 64  256        ['block1_conv2[0][0]']           \n",
            " ation)                         )                                                                 \n",
            "                                                                                                  \n",
            " block1_conv2_act (Activation)  (None, 147, 147, 64  0           ['block1_conv2_bn[0][0]']        \n",
            "                                )                                                                 \n",
            "                                                                                                  \n",
            " block2_sepconv1 (SeparableConv  (None, 147, 147, 12  8768       ['block1_conv2_act[0][0]']       \n",
            " 2D)                            8)                                                                \n",
            "                                                                                                  \n",
            " block2_sepconv1_bn (BatchNorma  (None, 147, 147, 12  512        ['block2_sepconv1[0][0]']        \n",
            " lization)                      8)                                                                \n",
            "                                                                                                  \n",
            " block2_sepconv2_act (Activatio  (None, 147, 147, 12  0          ['block2_sepconv1_bn[0][0]']     \n",
            " n)                             8)                                                                \n",
            "                                                                                                  \n",
            " block2_sepconv2 (SeparableConv  (None, 147, 147, 12  17536      ['block2_sepconv2_act[0][0]']    \n",
            " 2D)                            8)                                                                \n",
            "                                                                                                  \n",
            " block2_sepconv2_bn (BatchNorma  (None, 147, 147, 12  512        ['block2_sepconv2[0][0]']        \n",
            " lization)                      8)                                                                \n",
            "                                                                                                  \n",
            " conv2d_12 (Conv2D)             (None, 74, 74, 128)  8192        ['block1_conv2_act[0][0]']       \n",
            "                                                                                                  \n",
            " block2_pool (MaxPooling2D)     (None, 74, 74, 128)  0           ['block2_sepconv2_bn[0][0]']     \n",
            "                                                                                                  \n",
            " batch_normalization_12 (BatchN  (None, 74, 74, 128)  512        ['conv2d_12[0][0]']              \n",
            " ormalization)                                                                                    \n",
            "                                                                                                  \n",
            " add_36 (Add)                   (None, 74, 74, 128)  0           ['block2_pool[0][0]',            \n",
            "                                                                  'batch_normalization_12[0][0]'] \n",
            "                                                                                                  \n",
            " block3_sepconv1_act (Activatio  (None, 74, 74, 128)  0          ['add_36[0][0]']                 \n",
            " n)                                                                                               \n",
            "                                                                                                  \n",
            " block3_sepconv1 (SeparableConv  (None, 74, 74, 256)  33920      ['block3_sepconv1_act[0][0]']    \n",
            " 2D)                                                                                              \n",
            "                                                                                                  \n",
            " block3_sepconv1_bn (BatchNorma  (None, 74, 74, 256)  1024       ['block3_sepconv1[0][0]']        \n",
            " lization)                                                                                        \n",
            "                                                                                                  \n",
            " block3_sepconv2_act (Activatio  (None, 74, 74, 256)  0          ['block3_sepconv1_bn[0][0]']     \n",
            " n)                                                                                               \n",
            "                                                                                                  \n",
            " block3_sepconv2 (SeparableConv  (None, 74, 74, 256)  67840      ['block3_sepconv2_act[0][0]']    \n",
            " 2D)                                                                                              \n",
            "                                                                                                  \n",
            " block3_sepconv2_bn (BatchNorma  (None, 74, 74, 256)  1024       ['block3_sepconv2[0][0]']        \n",
            " lization)                                                                                        \n",
            "                                                                                                  \n",
            " conv2d_13 (Conv2D)             (None, 37, 37, 256)  32768       ['add_36[0][0]']                 \n",
            "                                                                                                  \n",
            " block3_pool (MaxPooling2D)     (None, 37, 37, 256)  0           ['block3_sepconv2_bn[0][0]']     \n",
            "                                                                                                  \n",
            " batch_normalization_13 (BatchN  (None, 37, 37, 256)  1024       ['conv2d_13[0][0]']              \n",
            " ormalization)                                                                                    \n",
            "                                                                                                  \n",
            " add_37 (Add)                   (None, 37, 37, 256)  0           ['block3_pool[0][0]',            \n",
            "                                                                  'batch_normalization_13[0][0]'] \n",
            "                                                                                                  \n",
            " block4_sepconv1_act (Activatio  (None, 37, 37, 256)  0          ['add_37[0][0]']                 \n",
            " n)                                                                                               \n",
            "                                                                                                  \n",
            " block4_sepconv1 (SeparableConv  (None, 37, 37, 728)  188672     ['block4_sepconv1_act[0][0]']    \n",
            " 2D)                                                                                              \n",
            "                                                                                                  \n",
            " block4_sepconv1_bn (BatchNorma  (None, 37, 37, 728)  2912       ['block4_sepconv1[0][0]']        \n",
            " lization)                                                                                        \n",
            "                                                                                                  \n",
            " block4_sepconv2_act (Activatio  (None, 37, 37, 728)  0          ['block4_sepconv1_bn[0][0]']     \n",
            " n)                                                                                               \n",
            "                                                                                                  \n",
            " block4_sepconv2 (SeparableConv  (None, 37, 37, 728)  536536     ['block4_sepconv2_act[0][0]']    \n",
            " 2D)                                                                                              \n",
            "                                                                                                  \n",
            " block4_sepconv2_bn (BatchNorma  (None, 37, 37, 728)  2912       ['block4_sepconv2[0][0]']        \n",
            " lization)                                                                                        \n",
            "                                                                                                  \n",
            " conv2d_14 (Conv2D)             (None, 19, 19, 728)  186368      ['add_37[0][0]']                 \n",
            "                                                                                                  \n",
            " block4_pool (MaxPooling2D)     (None, 19, 19, 728)  0           ['block4_sepconv2_bn[0][0]']     \n",
            "                                                                                                  \n",
            " batch_normalization_14 (BatchN  (None, 19, 19, 728)  2912       ['conv2d_14[0][0]']              \n",
            " ormalization)                                                                                    \n",
            "                                                                                                  \n",
            " add_38 (Add)                   (None, 19, 19, 728)  0           ['block4_pool[0][0]',            \n",
            "                                                                  'batch_normalization_14[0][0]'] \n",
            "                                                                                                  \n",
            " block5_sepconv1_act (Activatio  (None, 19, 19, 728)  0          ['add_38[0][0]']                 \n",
            " n)                                                                                               \n",
            "                                                                                                  \n",
            " block5_sepconv1 (SeparableConv  (None, 19, 19, 728)  536536     ['block5_sepconv1_act[0][0]']    \n",
            " 2D)                                                                                              \n",
            "                                                                                                  \n",
            " block5_sepconv1_bn (BatchNorma  (None, 19, 19, 728)  2912       ['block5_sepconv1[0][0]']        \n",
            " lization)                                                                                        \n",
            "                                                                                                  \n",
            " block5_sepconv2_act (Activatio  (None, 19, 19, 728)  0          ['block5_sepconv1_bn[0][0]']     \n",
            " n)                                                                                               \n",
            "                                                                                                  \n",
            " block5_sepconv2 (SeparableConv  (None, 19, 19, 728)  536536     ['block5_sepconv2_act[0][0]']    \n",
            " 2D)                                                                                              \n",
            "                                                                                                  \n",
            " block5_sepconv2_bn (BatchNorma  (None, 19, 19, 728)  2912       ['block5_sepconv2[0][0]']        \n",
            " lization)                                                                                        \n",
            "                                                                                                  \n",
            " block5_sepconv3_act (Activatio  (None, 19, 19, 728)  0          ['block5_sepconv2_bn[0][0]']     \n",
            " n)                                                                                               \n",
            "                                                                                                  \n",
            " block5_sepconv3 (SeparableConv  (None, 19, 19, 728)  536536     ['block5_sepconv3_act[0][0]']    \n",
            " 2D)                                                                                              \n",
            "                                                                                                  \n",
            " block5_sepconv3_bn (BatchNorma  (None, 19, 19, 728)  2912       ['block5_sepconv3[0][0]']        \n",
            " lization)                                                                                        \n",
            "                                                                                                  \n",
            " add_39 (Add)                   (None, 19, 19, 728)  0           ['block5_sepconv3_bn[0][0]',     \n",
            "                                                                  'add_38[0][0]']                 \n",
            "                                                                                                  \n",
            " block6_sepconv1_act (Activatio  (None, 19, 19, 728)  0          ['add_39[0][0]']                 \n",
            " n)                                                                                               \n",
            "                                                                                                  \n",
            " block6_sepconv1 (SeparableConv  (None, 19, 19, 728)  536536     ['block6_sepconv1_act[0][0]']    \n",
            " 2D)                                                                                              \n",
            "                                                                                                  \n",
            " block6_sepconv1_bn (BatchNorma  (None, 19, 19, 728)  2912       ['block6_sepconv1[0][0]']        \n",
            " lization)                                                                                        \n",
            "                                                                                                  \n",
            " block6_sepconv2_act (Activatio  (None, 19, 19, 728)  0          ['block6_sepconv1_bn[0][0]']     \n",
            " n)                                                                                               \n",
            "                                                                                                  \n",
            " block6_sepconv2 (SeparableConv  (None, 19, 19, 728)  536536     ['block6_sepconv2_act[0][0]']    \n",
            " 2D)                                                                                              \n",
            "                                                                                                  \n",
            " block6_sepconv2_bn (BatchNorma  (None, 19, 19, 728)  2912       ['block6_sepconv2[0][0]']        \n",
            " lization)                                                                                        \n",
            "                                                                                                  \n",
            " block6_sepconv3_act (Activatio  (None, 19, 19, 728)  0          ['block6_sepconv2_bn[0][0]']     \n",
            " n)                                                                                               \n",
            "                                                                                                  \n",
            " block6_sepconv3 (SeparableConv  (None, 19, 19, 728)  536536     ['block6_sepconv3_act[0][0]']    \n",
            " 2D)                                                                                              \n",
            "                                                                                                  \n",
            " block6_sepconv3_bn (BatchNorma  (None, 19, 19, 728)  2912       ['block6_sepconv3[0][0]']        \n",
            " lization)                                                                                        \n",
            "                                                                                                  \n",
            " add_40 (Add)                   (None, 19, 19, 728)  0           ['block6_sepconv3_bn[0][0]',     \n",
            "                                                                  'add_39[0][0]']                 \n",
            "                                                                                                  \n",
            " block7_sepconv1_act (Activatio  (None, 19, 19, 728)  0          ['add_40[0][0]']                 \n",
            " n)                                                                                               \n",
            "                                                                                                  \n",
            " block7_sepconv1 (SeparableConv  (None, 19, 19, 728)  536536     ['block7_sepconv1_act[0][0]']    \n",
            " 2D)                                                                                              \n",
            "                                                                                                  \n",
            " block7_sepconv1_bn (BatchNorma  (None, 19, 19, 728)  2912       ['block7_sepconv1[0][0]']        \n",
            " lization)                                                                                        \n",
            "                                                                                                  \n",
            " block7_sepconv2_act (Activatio  (None, 19, 19, 728)  0          ['block7_sepconv1_bn[0][0]']     \n",
            " n)                                                                                               \n",
            "                                                                                                  \n",
            " block7_sepconv2 (SeparableConv  (None, 19, 19, 728)  536536     ['block7_sepconv2_act[0][0]']    \n",
            " 2D)                                                                                              \n",
            "                                                                                                  \n",
            " block7_sepconv2_bn (BatchNorma  (None, 19, 19, 728)  2912       ['block7_sepconv2[0][0]']        \n",
            " lization)                                                                                        \n",
            "                                                                                                  \n",
            " block7_sepconv3_act (Activatio  (None, 19, 19, 728)  0          ['block7_sepconv2_bn[0][0]']     \n",
            " n)                                                                                               \n",
            "                                                                                                  \n",
            " block7_sepconv3 (SeparableConv  (None, 19, 19, 728)  536536     ['block7_sepconv3_act[0][0]']    \n",
            " 2D)                                                                                              \n",
            "                                                                                                  \n",
            " block7_sepconv3_bn (BatchNorma  (None, 19, 19, 728)  2912       ['block7_sepconv3[0][0]']        \n",
            " lization)                                                                                        \n",
            "                                                                                                  \n",
            " add_41 (Add)                   (None, 19, 19, 728)  0           ['block7_sepconv3_bn[0][0]',     \n",
            "                                                                  'add_40[0][0]']                 \n",
            "                                                                                                  \n",
            " block8_sepconv1_act (Activatio  (None, 19, 19, 728)  0          ['add_41[0][0]']                 \n",
            " n)                                                                                               \n",
            "                                                                                                  \n",
            " block8_sepconv1 (SeparableConv  (None, 19, 19, 728)  536536     ['block8_sepconv1_act[0][0]']    \n",
            " 2D)                                                                                              \n",
            "                                                                                                  \n",
            " block8_sepconv1_bn (BatchNorma  (None, 19, 19, 728)  2912       ['block8_sepconv1[0][0]']        \n",
            " lization)                                                                                        \n",
            "                                                                                                  \n",
            " block8_sepconv2_act (Activatio  (None, 19, 19, 728)  0          ['block8_sepconv1_bn[0][0]']     \n",
            " n)                                                                                               \n",
            "                                                                                                  \n",
            " block8_sepconv2 (SeparableConv  (None, 19, 19, 728)  536536     ['block8_sepconv2_act[0][0]']    \n",
            " 2D)                                                                                              \n",
            "                                                                                                  \n",
            " block8_sepconv2_bn (BatchNorma  (None, 19, 19, 728)  2912       ['block8_sepconv2[0][0]']        \n",
            " lization)                                                                                        \n",
            "                                                                                                  \n",
            " block8_sepconv3_act (Activatio  (None, 19, 19, 728)  0          ['block8_sepconv2_bn[0][0]']     \n",
            " n)                                                                                               \n",
            "                                                                                                  \n",
            " block8_sepconv3 (SeparableConv  (None, 19, 19, 728)  536536     ['block8_sepconv3_act[0][0]']    \n",
            " 2D)                                                                                              \n",
            "                                                                                                  \n",
            " block8_sepconv3_bn (BatchNorma  (None, 19, 19, 728)  2912       ['block8_sepconv3[0][0]']        \n",
            " lization)                                                                                        \n",
            "                                                                                                  \n",
            " add_42 (Add)                   (None, 19, 19, 728)  0           ['block8_sepconv3_bn[0][0]',     \n",
            "                                                                  'add_41[0][0]']                 \n",
            "                                                                                                  \n",
            " block9_sepconv1_act (Activatio  (None, 19, 19, 728)  0          ['add_42[0][0]']                 \n",
            " n)                                                                                               \n",
            "                                                                                                  \n",
            " block9_sepconv1 (SeparableConv  (None, 19, 19, 728)  536536     ['block9_sepconv1_act[0][0]']    \n",
            " 2D)                                                                                              \n",
            "                                                                                                  \n",
            " block9_sepconv1_bn (BatchNorma  (None, 19, 19, 728)  2912       ['block9_sepconv1[0][0]']        \n",
            " lization)                                                                                        \n",
            "                                                                                                  \n",
            " block9_sepconv2_act (Activatio  (None, 19, 19, 728)  0          ['block9_sepconv1_bn[0][0]']     \n",
            " n)                                                                                               \n",
            "                                                                                                  \n",
            " block9_sepconv2 (SeparableConv  (None, 19, 19, 728)  536536     ['block9_sepconv2_act[0][0]']    \n",
            " 2D)                                                                                              \n",
            "                                                                                                  \n",
            " block9_sepconv2_bn (BatchNorma  (None, 19, 19, 728)  2912       ['block9_sepconv2[0][0]']        \n",
            " lization)                                                                                        \n",
            "                                                                                                  \n",
            " block9_sepconv3_act (Activatio  (None, 19, 19, 728)  0          ['block9_sepconv2_bn[0][0]']     \n",
            " n)                                                                                               \n",
            "                                                                                                  \n",
            " block9_sepconv3 (SeparableConv  (None, 19, 19, 728)  536536     ['block9_sepconv3_act[0][0]']    \n",
            " 2D)                                                                                              \n",
            "                                                                                                  \n",
            " block9_sepconv3_bn (BatchNorma  (None, 19, 19, 728)  2912       ['block9_sepconv3[0][0]']        \n",
            " lization)                                                                                        \n",
            "                                                                                                  \n",
            " add_43 (Add)                   (None, 19, 19, 728)  0           ['block9_sepconv3_bn[0][0]',     \n",
            "                                                                  'add_42[0][0]']                 \n",
            "                                                                                                  \n",
            " block10_sepconv1_act (Activati  (None, 19, 19, 728)  0          ['add_43[0][0]']                 \n",
            " on)                                                                                              \n",
            "                                                                                                  \n",
            " block10_sepconv1 (SeparableCon  (None, 19, 19, 728)  536536     ['block10_sepconv1_act[0][0]']   \n",
            " v2D)                                                                                             \n",
            "                                                                                                  \n",
            " block10_sepconv1_bn (BatchNorm  (None, 19, 19, 728)  2912       ['block10_sepconv1[0][0]']       \n",
            " alization)                                                                                       \n",
            "                                                                                                  \n",
            " block10_sepconv2_act (Activati  (None, 19, 19, 728)  0          ['block10_sepconv1_bn[0][0]']    \n",
            " on)                                                                                              \n",
            "                                                                                                  \n",
            " block10_sepconv2 (SeparableCon  (None, 19, 19, 728)  536536     ['block10_sepconv2_act[0][0]']   \n",
            " v2D)                                                                                             \n",
            "                                                                                                  \n",
            " block10_sepconv2_bn (BatchNorm  (None, 19, 19, 728)  2912       ['block10_sepconv2[0][0]']       \n",
            " alization)                                                                                       \n",
            "                                                                                                  \n",
            " block10_sepconv3_act (Activati  (None, 19, 19, 728)  0          ['block10_sepconv2_bn[0][0]']    \n",
            " on)                                                                                              \n",
            "                                                                                                  \n",
            " block10_sepconv3 (SeparableCon  (None, 19, 19, 728)  536536     ['block10_sepconv3_act[0][0]']   \n",
            " v2D)                                                                                             \n",
            "                                                                                                  \n",
            " block10_sepconv3_bn (BatchNorm  (None, 19, 19, 728)  2912       ['block10_sepconv3[0][0]']       \n",
            " alization)                                                                                       \n",
            "                                                                                                  \n",
            " add_44 (Add)                   (None, 19, 19, 728)  0           ['block10_sepconv3_bn[0][0]',    \n",
            "                                                                  'add_43[0][0]']                 \n",
            "                                                                                                  \n",
            " block11_sepconv1_act (Activati  (None, 19, 19, 728)  0          ['add_44[0][0]']                 \n",
            " on)                                                                                              \n",
            "                                                                                                  \n",
            " block11_sepconv1 (SeparableCon  (None, 19, 19, 728)  536536     ['block11_sepconv1_act[0][0]']   \n",
            " v2D)                                                                                             \n",
            "                                                                                                  \n",
            " block11_sepconv1_bn (BatchNorm  (None, 19, 19, 728)  2912       ['block11_sepconv1[0][0]']       \n",
            " alization)                                                                                       \n",
            "                                                                                                  \n",
            " block11_sepconv2_act (Activati  (None, 19, 19, 728)  0          ['block11_sepconv1_bn[0][0]']    \n",
            " on)                                                                                              \n",
            "                                                                                                  \n",
            " block11_sepconv2 (SeparableCon  (None, 19, 19, 728)  536536     ['block11_sepconv2_act[0][0]']   \n",
            " v2D)                                                                                             \n",
            "                                                                                                  \n",
            " block11_sepconv2_bn (BatchNorm  (None, 19, 19, 728)  2912       ['block11_sepconv2[0][0]']       \n",
            " alization)                                                                                       \n",
            "                                                                                                  \n",
            " block11_sepconv3_act (Activati  (None, 19, 19, 728)  0          ['block11_sepconv2_bn[0][0]']    \n",
            " on)                                                                                              \n",
            "                                                                                                  \n",
            " block11_sepconv3 (SeparableCon  (None, 19, 19, 728)  536536     ['block11_sepconv3_act[0][0]']   \n",
            " v2D)                                                                                             \n",
            "                                                                                                  \n",
            " block11_sepconv3_bn (BatchNorm  (None, 19, 19, 728)  2912       ['block11_sepconv3[0][0]']       \n",
            " alization)                                                                                       \n",
            "                                                                                                  \n",
            " add_45 (Add)                   (None, 19, 19, 728)  0           ['block11_sepconv3_bn[0][0]',    \n",
            "                                                                  'add_44[0][0]']                 \n",
            "                                                                                                  \n",
            " block12_sepconv1_act (Activati  (None, 19, 19, 728)  0          ['add_45[0][0]']                 \n",
            " on)                                                                                              \n",
            "                                                                                                  \n",
            " block12_sepconv1 (SeparableCon  (None, 19, 19, 728)  536536     ['block12_sepconv1_act[0][0]']   \n",
            " v2D)                                                                                             \n",
            "                                                                                                  \n",
            " block12_sepconv1_bn (BatchNorm  (None, 19, 19, 728)  2912       ['block12_sepconv1[0][0]']       \n",
            " alization)                                                                                       \n",
            "                                                                                                  \n",
            " block12_sepconv2_act (Activati  (None, 19, 19, 728)  0          ['block12_sepconv1_bn[0][0]']    \n",
            " on)                                                                                              \n",
            "                                                                                                  \n",
            " block12_sepconv2 (SeparableCon  (None, 19, 19, 728)  536536     ['block12_sepconv2_act[0][0]']   \n",
            " v2D)                                                                                             \n",
            "                                                                                                  \n",
            " block12_sepconv2_bn (BatchNorm  (None, 19, 19, 728)  2912       ['block12_sepconv2[0][0]']       \n",
            " alization)                                                                                       \n",
            "                                                                                                  \n",
            " block12_sepconv3_act (Activati  (None, 19, 19, 728)  0          ['block12_sepconv2_bn[0][0]']    \n",
            " on)                                                                                              \n",
            "                                                                                                  \n",
            " block12_sepconv3 (SeparableCon  (None, 19, 19, 728)  536536     ['block12_sepconv3_act[0][0]']   \n",
            " v2D)                                                                                             \n",
            "                                                                                                  \n",
            " block12_sepconv3_bn (BatchNorm  (None, 19, 19, 728)  2912       ['block12_sepconv3[0][0]']       \n",
            " alization)                                                                                       \n",
            "                                                                                                  \n",
            " add_46 (Add)                   (None, 19, 19, 728)  0           ['block12_sepconv3_bn[0][0]',    \n",
            "                                                                  'add_45[0][0]']                 \n",
            "                                                                                                  \n",
            " block13_sepconv1_act (Activati  (None, 19, 19, 728)  0          ['add_46[0][0]']                 \n",
            " on)                                                                                              \n",
            "                                                                                                  \n",
            " block13_sepconv1 (SeparableCon  (None, 19, 19, 728)  536536     ['block13_sepconv1_act[0][0]']   \n",
            " v2D)                                                                                             \n",
            "                                                                                                  \n",
            " block13_sepconv1_bn (BatchNorm  (None, 19, 19, 728)  2912       ['block13_sepconv1[0][0]']       \n",
            " alization)                                                                                       \n",
            "                                                                                                  \n",
            " block13_sepconv2_act (Activati  (None, 19, 19, 728)  0          ['block13_sepconv1_bn[0][0]']    \n",
            " on)                                                                                              \n",
            "                                                                                                  \n",
            " block13_sepconv2 (SeparableCon  (None, 19, 19, 1024  752024     ['block13_sepconv2_act[0][0]']   \n",
            " v2D)                           )                                                                 \n",
            "                                                                                                  \n",
            " block13_sepconv2_bn (BatchNorm  (None, 19, 19, 1024  4096       ['block13_sepconv2[0][0]']       \n",
            " alization)                     )                                                                 \n",
            "                                                                                                  \n",
            " conv2d_15 (Conv2D)             (None, 10, 10, 1024  745472      ['add_46[0][0]']                 \n",
            "                                )                                                                 \n",
            "                                                                                                  \n",
            " block13_pool (MaxPooling2D)    (None, 10, 10, 1024  0           ['block13_sepconv2_bn[0][0]']    \n",
            "                                )                                                                 \n",
            "                                                                                                  \n",
            " batch_normalization_15 (BatchN  (None, 10, 10, 1024  4096       ['conv2d_15[0][0]']              \n",
            " ormalization)                  )                                                                 \n",
            "                                                                                                  \n",
            " add_47 (Add)                   (None, 10, 10, 1024  0           ['block13_pool[0][0]',           \n",
            "                                )                                 'batch_normalization_15[0][0]'] \n",
            "                                                                                                  \n",
            " block14_sepconv1 (SeparableCon  (None, 10, 10, 1536  1582080    ['add_47[0][0]']                 \n",
            " v2D)                           )                                                                 \n",
            "                                                                                                  \n",
            " block14_sepconv1_bn (BatchNorm  (None, 10, 10, 1536  6144       ['block14_sepconv1[0][0]']       \n",
            " alization)                     )                                                                 \n",
            "                                                                                                  \n",
            " block14_sepconv1_act (Activati  (None, 10, 10, 1536  0          ['block14_sepconv1_bn[0][0]']    \n",
            " on)                            )                                                                 \n",
            "                                                                                                  \n",
            " block14_sepconv2 (SeparableCon  (None, 10, 10, 2048  3159552    ['block14_sepconv1_act[0][0]']   \n",
            " v2D)                           )                                                                 \n",
            "                                                                                                  \n",
            " block14_sepconv2_bn (BatchNorm  (None, 10, 10, 2048  8192       ['block14_sepconv2[0][0]']       \n",
            " alization)                     )                                                                 \n",
            "                                                                                                  \n",
            " block14_sepconv2_act (Activati  (None, 10, 10, 2048  0          ['block14_sepconv2_bn[0][0]']    \n",
            " on)                            )                                                                 \n",
            "                                                                                                  \n",
            " flatten_3 (Flatten)            (None, 204800)       0           ['block14_sepconv2_act[0][0]']   \n",
            "                                                                                                  \n",
            " dense_6 (Dense)                (None, 1024)         209716224   ['flatten_3[0][0]']              \n",
            "                                                                                                  \n",
            " dropout_3 (Dropout)            (None, 1024)         0           ['dense_6[0][0]']                \n",
            "                                                                                                  \n",
            " dense_7 (Dense)                (None, 33)           33825       ['dropout_3[0][0]']              \n",
            "                                                                                                  \n",
            "==================================================================================================\n",
            "Total params: 230,611,529\n",
            "Trainable params: 209,750,049\n",
            "Non-trainable params: 20,861,480\n",
            "__________________________________________________________________________________________________\n"
          ]
        }
      ],
      "source": [
        "model = applications.Xception(weights='imagenet', \n",
        "                              include_top=False, \n",
        "                              input_shape=(299, 299, 3))\n",
        "\n",
        "for layer in model.layers:\n",
        "    layer.trainable = False\n",
        "\n",
        "x = model.output\n",
        "x = Flatten()(x)\n",
        "x = Dense(1024, activation=\"relu\")(x)\n",
        "x = Dropout(.3)(x)\n",
        "predictions = Dense(33, activation=\"softmax\")(x)\n",
        "model_final = Model(model.input, predictions)\n",
        "\n",
        "model_final.compile(optimizers.RMSprop(learning_rate=0.0001, decay=1e-5),loss='categorical_crossentropy',metrics=['accuracy'])\n",
        "model_final.summary()"
      ]
    },
    {
      "cell_type": "code",
      "source": [
        "for layer in model_final.layers:\n",
        "  print(layer, layer.trainable)"
      ],
      "metadata": {
        "id": "0zjRH05JNNrR",
        "outputId": "911788df-1196-40ac-ab31-1c1529e78ce6",
        "colab": {
          "base_uri": "https://localhost:8080/"
        }
      },
      "execution_count": 30,
      "outputs": [
        {
          "output_type": "stream",
          "name": "stdout",
          "text": [
            "<keras.engine.input_layer.InputLayer object at 0x7fbf3049a690> False\n",
            "<keras.layers.convolutional.conv2d.Conv2D object at 0x7fbf304b6a10> False\n",
            "<keras.layers.normalization.batch_normalization.BatchNormalization object at 0x7fbf30355410> False\n",
            "<keras.layers.core.activation.Activation object at 0x7fbf304eea90> False\n",
            "<keras.layers.convolutional.conv2d.Conv2D object at 0x7fbf30355c50> False\n",
            "<keras.layers.normalization.batch_normalization.BatchNormalization object at 0x7fbf30355150> False\n",
            "<keras.layers.core.activation.Activation object at 0x7fbf302ced10> False\n",
            "<keras.layers.convolutional.separable_conv2d.SeparableConv2D object at 0x7fbf3049af50> False\n",
            "<keras.layers.normalization.batch_normalization.BatchNormalization object at 0x7fbed6040fd0> False\n",
            "<keras.layers.core.activation.Activation object at 0x7fbed6040c10> False\n",
            "<keras.layers.convolutional.separable_conv2d.SeparableConv2D object at 0x7fbed604db10> False\n",
            "<keras.layers.normalization.batch_normalization.BatchNormalization object at 0x7fbed60317d0> False\n",
            "<keras.layers.convolutional.conv2d.Conv2D object at 0x7fbf30486590> False\n",
            "<keras.layers.pooling.max_pooling2d.MaxPooling2D object at 0x7fbed6031850> False\n",
            "<keras.layers.normalization.batch_normalization.BatchNormalization object at 0x7fbf30323090> False\n",
            "<keras.layers.merging.add.Add object at 0x7fbed6017bd0> False\n",
            "<keras.layers.core.activation.Activation object at 0x7fbf3049ae50> False\n",
            "<keras.layers.convolutional.separable_conv2d.SeparableConv2D object at 0x7fbed6014750> False\n",
            "<keras.layers.normalization.batch_normalization.BatchNormalization object at 0x7fbed602cf10> False\n",
            "<keras.layers.core.activation.Activation object at 0x7fbed6020690> False\n",
            "<keras.layers.convolutional.separable_conv2d.SeparableConv2D object at 0x7fbed6017950> False\n",
            "<keras.layers.normalization.batch_normalization.BatchNormalization object at 0x7fbed604bd50> False\n",
            "<keras.layers.convolutional.conv2d.Conv2D object at 0x7fbed60371d0> False\n",
            "<keras.layers.pooling.max_pooling2d.MaxPooling2D object at 0x7fbed604ba50> False\n",
            "<keras.layers.normalization.batch_normalization.BatchNormalization object at 0x7fbed6017a10> False\n",
            "<keras.layers.merging.add.Add object at 0x7fbebe7abe50> False\n",
            "<keras.layers.core.activation.Activation object at 0x7fbebe7809d0> False\n",
            "<keras.layers.convolutional.separable_conv2d.SeparableConv2D object at 0x7fbebe7b5250> False\n",
            "<keras.layers.normalization.batch_normalization.BatchNormalization object at 0x7fbed6039490> False\n",
            "<keras.layers.core.activation.Activation object at 0x7fbed6039590> False\n",
            "<keras.layers.convolutional.separable_conv2d.SeparableConv2D object at 0x7fbed6041c50> False\n",
            "<keras.layers.normalization.batch_normalization.BatchNormalization object at 0x7fbc542c1550> False\n",
            "<keras.layers.convolutional.conv2d.Conv2D object at 0x7fbebe7b5d10> False\n",
            "<keras.layers.pooling.max_pooling2d.MaxPooling2D object at 0x7fbf304b6750> False\n",
            "<keras.layers.normalization.batch_normalization.BatchNormalization object at 0x7fbebe7b5bd0> False\n",
            "<keras.layers.merging.add.Add object at 0x7fbed6047c10> False\n",
            "<keras.layers.core.activation.Activation object at 0x7fbda2222710> False\n",
            "<keras.layers.convolutional.separable_conv2d.SeparableConv2D object at 0x7fbebe792ed0> False\n",
            "<keras.layers.normalization.batch_normalization.BatchNormalization object at 0x7fbebe7806d0> False\n",
            "<keras.layers.core.activation.Activation object at 0x7fbebe7af850> False\n",
            "<keras.layers.convolutional.separable_conv2d.SeparableConv2D object at 0x7fbebe7929d0> False\n",
            "<keras.layers.normalization.batch_normalization.BatchNormalization object at 0x7fbebe793cd0> False\n",
            "<keras.layers.core.activation.Activation object at 0x7fbebe799950> False\n",
            "<keras.layers.convolutional.separable_conv2d.SeparableConv2D object at 0x7fbebe793090> False\n",
            "<keras.layers.normalization.batch_normalization.BatchNormalization object at 0x7fbebe7af090> False\n",
            "<keras.layers.merging.add.Add object at 0x7fbebe77c310> False\n",
            "<keras.layers.core.activation.Activation object at 0x7fbebe789150> False\n",
            "<keras.layers.convolutional.separable_conv2d.SeparableConv2D object at 0x7fbebe799050> False\n",
            "<keras.layers.normalization.batch_normalization.BatchNormalization object at 0x7fbf30485310> False\n",
            "<keras.layers.core.activation.Activation object at 0x7fbebe7a05d0> False\n",
            "<keras.layers.convolutional.separable_conv2d.SeparableConv2D object at 0x7fbebe78ddd0> False\n",
            "<keras.layers.normalization.batch_normalization.BatchNormalization object at 0x7fbda2432550> False\n",
            "<keras.layers.core.activation.Activation object at 0x7fbebe7b7a90> False\n",
            "<keras.layers.convolutional.separable_conv2d.SeparableConv2D object at 0x7fbda2402690> False\n",
            "<keras.layers.normalization.batch_normalization.BatchNormalization object at 0x7fbda2402e50> False\n",
            "<keras.layers.merging.add.Add object at 0x7fbda23f5ad0> False\n",
            "<keras.layers.core.activation.Activation object at 0x7fbebe799ed0> False\n",
            "<keras.layers.convolutional.separable_conv2d.SeparableConv2D object at 0x7fbda23f53d0> False\n",
            "<keras.layers.normalization.batch_normalization.BatchNormalization object at 0x7fbebe77ca10> False\n",
            "<keras.layers.core.activation.Activation object at 0x7fbda240ea10> False\n",
            "<keras.layers.convolutional.separable_conv2d.SeparableConv2D object at 0x7fbda241e8d0> False\n",
            "<keras.layers.normalization.batch_normalization.BatchNormalization object at 0x7fbda2403510> False\n",
            "<keras.layers.core.activation.Activation object at 0x7fbda24039d0> False\n",
            "<keras.layers.convolutional.separable_conv2d.SeparableConv2D object at 0x7fbda240cdd0> False\n",
            "<keras.layers.normalization.batch_normalization.BatchNormalization object at 0x7fbda240ced0> False\n",
            "<keras.layers.merging.add.Add object at 0x7fbda2425790> False\n",
            "<keras.layers.core.activation.Activation object at 0x7fbebe78de50> False\n",
            "<keras.layers.convolutional.separable_conv2d.SeparableConv2D object at 0x7fbda24162d0> False\n",
            "<keras.layers.normalization.batch_normalization.BatchNormalization object at 0x7fbda2416b50> False\n",
            "<keras.layers.core.activation.Activation object at 0x7fbebe13a050> False\n",
            "<keras.layers.convolutional.separable_conv2d.SeparableConv2D object at 0x7fbebe13ac10> False\n",
            "<keras.layers.normalization.batch_normalization.BatchNormalization object at 0x7fbda2425fd0> False\n",
            "<keras.layers.core.activation.Activation object at 0x7fbda2425f90> False\n",
            "<keras.layers.convolutional.separable_conv2d.SeparableConv2D object at 0x7fbda2418f90> False\n",
            "<keras.layers.normalization.batch_normalization.BatchNormalization object at 0x7fbda2418350> False\n",
            "<keras.layers.merging.add.Add object at 0x7fbf303f4fd0> False\n",
            "<keras.layers.core.activation.Activation object at 0x7fbebe79be10> False\n",
            "<keras.layers.convolutional.separable_conv2d.SeparableConv2D object at 0x7fbebe78d650> False\n",
            "<keras.layers.normalization.batch_normalization.BatchNormalization object at 0x7fbda23f4150> False\n",
            "<keras.layers.core.activation.Activation object at 0x7fbf30470f90> False\n",
            "<keras.layers.convolutional.separable_conv2d.SeparableConv2D object at 0x7fbf30485c50> False\n",
            "<keras.layers.normalization.batch_normalization.BatchNormalization object at 0x7fbda23728d0> False\n",
            "<keras.layers.core.activation.Activation object at 0x7fbed602c110> False\n",
            "<keras.layers.convolutional.separable_conv2d.SeparableConv2D object at 0x7fbebe1489d0> False\n",
            "<keras.layers.normalization.batch_normalization.BatchNormalization object at 0x7fbebe148c10> False\n",
            "<keras.layers.merging.add.Add object at 0x7fbebe793f10> False\n",
            "<keras.layers.core.activation.Activation object at 0x7fbebe77c210> False\n",
            "<keras.layers.convolutional.separable_conv2d.SeparableConv2D object at 0x7fbebe14b290> False\n",
            "<keras.layers.normalization.batch_normalization.BatchNormalization object at 0x7fbebe7acc90> False\n",
            "<keras.layers.core.activation.Activation object at 0x7fbebe15f190> False\n",
            "<keras.layers.convolutional.separable_conv2d.SeparableConv2D object at 0x7fbebe13e3d0> False\n",
            "<keras.layers.normalization.batch_normalization.BatchNormalization object at 0x7fbebe159550> False\n",
            "<keras.layers.core.activation.Activation object at 0x7fbed6093a90> False\n",
            "<keras.layers.convolutional.separable_conv2d.SeparableConv2D object at 0x7fbed60ab850> False\n",
            "<keras.layers.normalization.batch_normalization.BatchNormalization object at 0x7fbed60cce50> False\n",
            "<keras.layers.merging.add.Add object at 0x7fbf30463b50> False\n",
            "<keras.layers.core.activation.Activation object at 0x7fbebe13ebd0> False\n",
            "<keras.layers.convolutional.separable_conv2d.SeparableConv2D object at 0x7fbebe1402d0> False\n",
            "<keras.layers.normalization.batch_normalization.BatchNormalization object at 0x7fbf30463e90> False\n",
            "<keras.layers.core.activation.Activation object at 0x7fbed60ab290> False\n",
            "<keras.layers.convolutional.separable_conv2d.SeparableConv2D object at 0x7fbed60af6d0> False\n",
            "<keras.layers.normalization.batch_normalization.BatchNormalization object at 0x7fbf30460890> False\n",
            "<keras.layers.core.activation.Activation object at 0x7fbf3045ce10> False\n",
            "<keras.layers.convolutional.separable_conv2d.SeparableConv2D object at 0x7fbf30460ad0> False\n",
            "<keras.layers.normalization.batch_normalization.BatchNormalization object at 0x7fbf30448790> False\n",
            "<keras.layers.merging.add.Add object at 0x7fbf302b8850> False\n",
            "<keras.layers.core.activation.Activation object at 0x7fbf30463110> False\n",
            "<keras.layers.convolutional.separable_conv2d.SeparableConv2D object at 0x7fbf3045c9d0> False\n",
            "<keras.layers.normalization.batch_normalization.BatchNormalization object at 0x7fbebe72d8d0> False\n",
            "<keras.layers.core.activation.Activation object at 0x7fbebe7370d0> False\n",
            "<keras.layers.convolutional.separable_conv2d.SeparableConv2D object at 0x7fbebe737d90> False\n",
            "<keras.layers.normalization.batch_normalization.BatchNormalization object at 0x7fbebe724dd0> False\n",
            "<keras.layers.core.activation.Activation object at 0x7fbf304715d0> False\n",
            "<keras.layers.convolutional.separable_conv2d.SeparableConv2D object at 0x7fbf30460f50> False\n",
            "<keras.layers.normalization.batch_normalization.BatchNormalization object at 0x7fbf3044f790> False\n",
            "<keras.layers.merging.add.Add object at 0x7fbed6093990> False\n",
            "<keras.layers.core.activation.Activation object at 0x7fbebe72d0d0> False\n",
            "<keras.layers.convolutional.separable_conv2d.SeparableConv2D object at 0x7fbf3033c3d0> False\n",
            "<keras.layers.normalization.batch_normalization.BatchNormalization object at 0x7fbebe14c610> False\n",
            "<keras.layers.core.activation.Activation object at 0x7fbebe159ed0> False\n",
            "<keras.layers.convolutional.separable_conv2d.SeparableConv2D object at 0x7fbf304b6090> False\n",
            "<keras.layers.normalization.batch_normalization.BatchNormalization object at 0x7fbed6014e90> False\n",
            "<keras.layers.convolutional.conv2d.Conv2D object at 0x7fbed6093ad0> False\n",
            "<keras.layers.pooling.max_pooling2d.MaxPooling2D object at 0x7fbebe789e10> False\n",
            "<keras.layers.normalization.batch_normalization.BatchNormalization object at 0x7fbf303ae550> False\n",
            "<keras.layers.merging.add.Add object at 0x7fbebe148950> False\n",
            "<keras.layers.convolutional.separable_conv2d.SeparableConv2D object at 0x7fbebe712850> False\n",
            "<keras.layers.normalization.batch_normalization.BatchNormalization object at 0x7fbda241eb10> False\n",
            "<keras.layers.core.activation.Activation object at 0x7fbebe16c910> False\n",
            "<keras.layers.convolutional.separable_conv2d.SeparableConv2D object at 0x7fbf3045cf10> False\n",
            "<keras.layers.normalization.batch_normalization.BatchNormalization object at 0x7fbebe1484d0> False\n",
            "<keras.layers.core.activation.Activation object at 0x7fbda2412190> False\n",
            "<keras.layers.reshaping.flatten.Flatten object at 0x7fbf3049ab10> True\n",
            "<keras.layers.core.dense.Dense object at 0x7fbf30463d50> True\n",
            "<keras.layers.regularization.dropout.Dropout object at 0x7fbda235d410> True\n",
            "<keras.layers.core.dense.Dense object at 0x7fbda2335fd0> True\n"
          ]
        }
      ]
    },
    {
      "cell_type": "markdown",
      "source": [
        "\n",
        "      VALIDATION_ACCURACY = []\n",
        "VALIDATION_LOSS = []\n",
        "\n",
        "save_dir = '/saved_models/'\n",
        "fold_var = 4\n",
        "\n",
        "# LOAD BEST MODEL to evaluate the performance of the model\n",
        "#model.load_weights(\"/content/drive/MyDrive/archive (1)/val\"+str(fold_var)+\".h5\")\n",
        "\n",
        "model.compile(optimizers.RMSprop(learning_rate=0.0001, decay=1e-5),loss='categorical_crossentropy',metrics=['accuracy'])\n",
        "results = model.evaluate(test_datagen)\n",
        "results = dict(zip(model.metrics_names,results))\n",
        "\t\n",
        "VALIDATION_ACCURACY.append(results['accuracy'])\n",
        "VALIDATION_LOSS.append(results['loss'])\n",
        "\t\n",
        "tf.keras.backend.clear_session()\n",
        "\t\n",
        "fold_var += 1"
      ],
      "metadata": {
        "id": "oX0lkiUY29sh"
      }
    },
    {
      "cell_type": "markdown",
      "metadata": {
        "id": "6qdDU9-qQfp6"
      },
      "source": [
        "Xception\n"
      ]
    },
    {
      "cell_type": "code",
      "execution_count": null,
      "metadata": {
        "colab": {
          "base_uri": "https://localhost:8080/"
        },
        "id": "IOmqg4EDQjRk",
        "outputId": "954b1faa-e890-412c-fc8a-86a22246010f"
      },
      "outputs": [
        {
          "output_type": "stream",
          "name": "stderr",
          "text": [
            "WARNING:tensorflow:`period` argument is deprecated. Please use `save_freq` to specify the frequency in number of batches seen.\n"
          ]
        },
        {
          "output_type": "stream",
          "name": "stdout",
          "text": [
            "Epoch 1/5\n",
            "150/150 [==============================] - ETA: 0s - loss: 2.1322 - accuracy: 0.4613\n",
            "Epoch 1: loss improved from inf to 2.13219, saving model to xception\n"
          ]
        },
        {
          "output_type": "stream",
          "name": "stderr",
          "text": [
            "WARNING:absl:Found untraced functions such as _jit_compiled_convolution_op, _jit_compiled_convolution_op, _jit_compiled_convolution_op, _jit_compiled_convolution_op, _jit_compiled_convolution_op while saving (showing 5 of 40). These functions will not be directly callable after loading.\n"
          ]
        },
        {
          "output_type": "stream",
          "name": "stdout",
          "text": [
            "\b\b\b\b\b\b\b\b\b\b\b\b\b\b\b\b\b\b\b\b\b\b\b\b\b\b\b\b\b\b\b\b\b\b\b\b\b\b\b\b\b\b\b\b\b\b\b\b\b\b\b\b\b\b\b\b\b\b\b\b\b\b\b\b\b\b\b\b\b\b\b\b\b\b\b\b\b\b\b\b\b\b\b\b\r150/150 [==============================] - 132s 878ms/step - loss: 2.1322 - accuracy: 0.4613\n",
            "Epoch 2/5\n",
            "150/150 [==============================] - ETA: 0s - loss: 2.1264 - accuracy: 0.4551\n",
            "Epoch 2: loss improved from 2.13219 to 2.12635, saving model to xception\n"
          ]
        },
        {
          "output_type": "stream",
          "name": "stderr",
          "text": [
            "WARNING:absl:Found untraced functions such as _jit_compiled_convolution_op, _jit_compiled_convolution_op, _jit_compiled_convolution_op, _jit_compiled_convolution_op, _jit_compiled_convolution_op while saving (showing 5 of 40). These functions will not be directly callable after loading.\n"
          ]
        },
        {
          "output_type": "stream",
          "name": "stdout",
          "text": [
            "\b\b\b\b\b\b\b\b\b\b\b\b\b\b\b\b\b\b\b\b\b\b\b\b\b\b\b\b\b\b\b\b\b\b\b\b\b\b\b\b\b\b\b\b\b\b\b\b\b\b\b\b\b\b\b\b\b\b\b\b\b\b\b\b\b\b\b\b\b\b\b\b\b\b\b\b\b\b\b\b\b\b\b\b\r150/150 [==============================] - 133s 883ms/step - loss: 2.1264 - accuracy: 0.4551\n",
            "Epoch 3/5\n",
            "150/150 [==============================] - ETA: 0s - loss: 2.1162 - accuracy: 0.4583\n",
            "Epoch 3: loss improved from 2.12635 to 2.11620, saving model to xception\n"
          ]
        },
        {
          "output_type": "stream",
          "name": "stderr",
          "text": [
            "WARNING:absl:Found untraced functions such as _jit_compiled_convolution_op, _jit_compiled_convolution_op, _jit_compiled_convolution_op, _jit_compiled_convolution_op, _jit_compiled_convolution_op while saving (showing 5 of 40). These functions will not be directly callable after loading.\n"
          ]
        },
        {
          "output_type": "stream",
          "name": "stdout",
          "text": [
            "\b\b\b\b\b\b\b\b\b\b\b\b\b\b\b\b\b\b\b\b\b\b\b\b\b\b\b\b\b\b\b\b\b\b\b\b\b\b\b\b\b\b\b\b\b\b\b\b\b\b\b\b\b\b\b\b\b\b\b\b\b\b\b\b\b\b\b\b\b\b\b\b\b\b\b\b\b\b\b\b\b\b\b\b\r150/150 [==============================] - 132s 878ms/step - loss: 2.1162 - accuracy: 0.4583\n",
            "Epoch 4/5\n",
            "150/150 [==============================] - ETA: 0s - loss: 2.1260 - accuracy: 0.4569\n",
            "Epoch 4: loss did not improve from 2.11620\n",
            "150/150 [==============================] - 109s 724ms/step - loss: 2.1260 - accuracy: 0.4569\n"
          ]
        }
      ],
      "source": [
        "checkpoint = ModelCheckpoint(\"xception\", monitor='loss', verbose=1, save_best_only=True, save_weights_only=False, mode='auto', period=1)\n",
        "early = EarlyStopping(monitor='loss', min_delta=0.0001, patience=7, verbose=2, mode='auto')\n",
        "hist = model_final.fit(train_generator,                   \n",
        "                                    steps_per_epoch=150,\n",
        "                                    validation_data=test_generator,                    \n",
        "                                    validation_steps=10,\n",
        "                                    epochs=5,\n",
        "                                    callbacks = [checkpoint, early],\n",
        "                                    verbose=1)"
      ]
    },
    {
      "cell_type": "markdown",
      "metadata": {
        "id": "hrRU_VBtS3IH"
      },
      "source": [
        "Plot Xception"
      ]
    },
    {
      "cell_type": "code",
      "execution_count": 34,
      "metadata": {
        "id": "5ac8fe9iS4af",
        "outputId": "dc8bdbbe-6af7-4c5b-9aa1-4649d4380525",
        "colab": {
          "base_uri": "https://localhost:8080/",
          "height": 483
        }
      },
      "outputs": [
        {
          "output_type": "error",
          "ename": "KeyError",
          "evalue": "ignored",
          "traceback": [
            "\u001b[0;31m---------------------------------------------------------------------------\u001b[0m",
            "\u001b[0;31mKeyError\u001b[0m                                  Traceback (most recent call last)",
            "\u001b[0;32m<ipython-input-34-abc9d579bcd5>\u001b[0m in \u001b[0;36m<module>\u001b[0;34m\u001b[0m\n\u001b[1;32m      2\u001b[0m \u001b[0mplt\u001b[0m\u001b[0;34m.\u001b[0m\u001b[0mplot\u001b[0m\u001b[0;34m(\u001b[0m\u001b[0mhist\u001b[0m\u001b[0;34m.\u001b[0m\u001b[0mhistory\u001b[0m\u001b[0;34m[\u001b[0m\u001b[0;34m\"loss\"\u001b[0m\u001b[0;34m]\u001b[0m\u001b[0;34m)\u001b[0m\u001b[0;34m\u001b[0m\u001b[0;34m\u001b[0m\u001b[0m\n\u001b[1;32m      3\u001b[0m \u001b[0mplt\u001b[0m\u001b[0;34m.\u001b[0m\u001b[0mplot\u001b[0m\u001b[0;34m(\u001b[0m\u001b[0mhist\u001b[0m\u001b[0;34m.\u001b[0m\u001b[0mhistory\u001b[0m\u001b[0;34m[\u001b[0m\u001b[0;34m\"accuracy\"\u001b[0m\u001b[0;34m]\u001b[0m\u001b[0;34m)\u001b[0m\u001b[0;34m\u001b[0m\u001b[0;34m\u001b[0m\u001b[0m\n\u001b[0;32m----> 4\u001b[0;31m \u001b[0mplt\u001b[0m\u001b[0;34m.\u001b[0m\u001b[0mplot\u001b[0m\u001b[0;34m(\u001b[0m\u001b[0mhist\u001b[0m\u001b[0;34m.\u001b[0m\u001b[0mhistory\u001b[0m\u001b[0;34m[\u001b[0m\u001b[0;34m\"val_loss\"\u001b[0m\u001b[0;34m]\u001b[0m\u001b[0;34m)\u001b[0m\u001b[0;34m\u001b[0m\u001b[0;34m\u001b[0m\u001b[0m\n\u001b[0m\u001b[1;32m      5\u001b[0m \u001b[0mplt\u001b[0m\u001b[0;34m.\u001b[0m\u001b[0mplot\u001b[0m\u001b[0;34m(\u001b[0m\u001b[0mhist\u001b[0m\u001b[0;34m.\u001b[0m\u001b[0mhistory\u001b[0m\u001b[0;34m[\u001b[0m\u001b[0;34m\"val_accuracy\"\u001b[0m\u001b[0;34m]\u001b[0m\u001b[0;34m)\u001b[0m\u001b[0;34m\u001b[0m\u001b[0;34m\u001b[0m\u001b[0m\n\u001b[1;32m      6\u001b[0m \u001b[0mplt\u001b[0m\u001b[0;34m.\u001b[0m\u001b[0mlegend\u001b[0m\u001b[0;34m(\u001b[0m\u001b[0;34m[\u001b[0m\u001b[0;34m\"accuracy\"\u001b[0m\u001b[0;34m,\u001b[0m \u001b[0;34m\"val_accuracy\"\u001b[0m\u001b[0;34m]\u001b[0m\u001b[0;34m)\u001b[0m\u001b[0;34m\u001b[0m\u001b[0;34m\u001b[0m\u001b[0m\n",
            "\u001b[0;31mKeyError\u001b[0m: 'val_loss'"
          ]
        },
        {
          "output_type": "display_data",
          "data": {
            "text/plain": [
              "<Figure size 432x288 with 1 Axes>"
            ],
            "image/png": "[encoded data removed]"
          },
          "metadata": {
            "needs_background": "light"
          }
        }
      ],
      "source": [
        "import matplotlib.pyplot as plt\n",
        "plt.plot(hist.history[\"loss\"])\n",
        "plt.plot(hist.history[\"accuracy\"])\n",
        "plt.plot(hist.history[\"val_loss\"])\n",
        "plt.plot(hist.history[\"val_accuracy\"])\n",
        "plt.legend([\"accuracy\", \"val_accuracy\"])\n",
        "plt.show()"
      ]
    },
    {
      "cell_type": "code",
      "source": [
        "import tensorflow as tf\n",
        "from tf.keras.datasets import fashion_mnist\n",
        "\n",
        "(train_data, train_labels), (test_data, test_labels) = fashion_mnist.load_data()\n",
        "train_data.shape, test_data.shape\n",
        "\n",
        "plt.imshow(train_data[0])\n",
        "\n",
        "train_data = train_data/255.0\n",
        "test_data = test_data/255.0\n",
        "\n",
        "from sklearn.metrics import plot_confusion_matrix\n",
        "plot_confusion_matrix(model, test_data, test_labels)\n"
      ],
      "metadata": {
        "id": "LojXgIwhfTBU"
      },
      "execution_count": null,
      "outputs": []
    }
  ],
  "metadata": {
    "accelerator": "GPU",
    "colab": {
      "provenance": [],
      "include_colab_link": true
    },
    "gpuClass": "standard",
    "kernelspec": {
      "display_name": "Python 3",
      "name": "python3"
    },
    "language_info": {
      "name": "python"
    }
  },
  "nbformat": 4,
  "nbformat_minor": 0
}
{
  "nbformat": 4,
  "nbformat_minor": 0,
  "metadata": {
    "colab": {
      "provenance": [],
      "mount_file_id": "https://github.com/mary-ts/Neural-Computing/blob/padi/lenet5%20xception%20mashup.ipynb",
      "authorship_tag": "ABX9TyP3Dciul7zeJno81t/+374e",
      "include_colab_link": true
    },
    "kernelspec": {
      "name": "python3",
      "display_name": "Python 3"
    },
    "language_info": {
      "name": "python"
    },
    "accelerator": "TPU",
    "gpuClass": "standard"
  },
  "cells": [
    {
      "cell_type": "markdown",
      "metadata": {
        "id": "view-in-github",
        "colab_type": "text"
      },
      "source": [
        "<a href=\"https://colab.research.google.com/github/mary-ts/Neural-Computing/blob/padi/lenet5%20xception%20mashup.ipynb\" target=\"_parent\"><img src=\"https://colab.research.google.com/assets/colab-badge.svg\" alt=\"Open In Colab\"/></a>"
      ]
    },
    {
      "cell_type": "markdown",
      "source": [
        "Imports"
      ],
      "metadata": {
        "id": "pVhvb2zpFJjj"
      }
    },
    {
      "cell_type": "code",
      "source": [
        "import numpy as np\n",
        "import pandas as pd\n",
        "import matplotlib.pyplot as plt\n",
        "import tensorflow as tf\n",
        "import keras\n",
        "import keras.layers as layers\n",
        "from keras import Sequential\n",
        "import keras.models\n",
        "from keras.layers import *\n",
        "from keras.models import * \n",
        "from keras import optimizers, applications\n",
        "from keras.preprocessing import image\n",
        "from keras.callbacks import ModelCheckpoint, EarlyStopping"
      ],
      "metadata": {
        "id": "0UtFlsCx3p7v"
      },
      "execution_count": 1,
      "outputs": []
    },
    {
      "cell_type": "markdown",
      "source": [
        "Dataset Paths"
      ],
      "metadata": {
        "id": "TkKj_nmXFMVx"
      }
    },
    {
      "cell_type": "code",
      "source": [
        "train_path = \"/content/drive/MyDrive/CNN IMAGES/Fruit_dataset/MY_data/train\"\n",
        "test_path = \"/content/drive/MyDrive/CNN IMAGES/Fruit_dataset/MY_data/test\"\n",
        "val_path = \"/content/drive/MyDrive/CNN IMAGES/Fruit_dataset/MY_data/predict\""
      ],
      "metadata": {
        "id": "wLUXspsC3r59"
      },
      "execution_count": 2,
      "outputs": []
    },
    {
      "cell_type": "markdown",
      "source": [
        "Creating training and test data"
      ],
      "metadata": {
        "id": "K3FzUSSnFPBX"
      }
    },
    {
      "cell_type": "code",
      "source": [
        "train_datagen = image.ImageDataGenerator(\n",
        "    rotation_range=15,\n",
        "    shear_range=0.2,\n",
        "    zoom_range=0.2,\n",
        "    horizontal_flip=True,\n",
        "    fill_mode='nearest',\n",
        "    width_shift_range=0.1,\n",
        "    height_shift_range=0.1\n",
        ")\n",
        "test_datagen= image.ImageDataGenerator(    \n",
        "    rotation_range=15,\n",
        "    shear_range=0.2,\n",
        "    zoom_range=0.2,\n",
        "    horizontal_flip=True,\n",
        "    fill_mode='nearest',\n",
        "    width_shift_range=0.1,\n",
        "    height_shift_range=0.1)\n",
        "\n",
        "val_datagen= image.ImageDataGenerator(    \n",
        "    rotation_range=15,\n",
        "    shear_range=0.2,\n",
        "    zoom_range=0.2,\n",
        "    horizontal_flip=True,\n",
        "    fill_mode='nearest',\n",
        "    width_shift_range=0.1,\n",
        "    height_shift_range=0.1)"
      ],
      "metadata": {
        "id": "2BnRGnO1_Gid"
      },
      "execution_count": 3,
      "outputs": []
    },
    {
      "cell_type": "markdown",
      "source": [
        "Importing data into generators"
      ],
      "metadata": {
        "id": "mLIPKlW7FT4b"
      }
    },
    {
      "cell_type": "code",
      "source": [
        "train_generator = train_datagen.flow_from_directory(\n",
        "    train_path,\n",
        "    target_size = (224,224),\n",
        "    batch_size = 8,\n",
        "    class_mode = 'categorical', \n",
        "    shuffle=True)\n",
        "\n",
        "test_generator = test_datagen.flow_from_directory(\n",
        "    test_path,\n",
        "    target_size = (224,224),\n",
        "    batch_size = 8,\n",
        "    shuffle=True,\n",
        "    class_mode = 'categorical')\n",
        "\n",
        "val_generator = val_datagen.flow_from_directory(\n",
        "    val_path,\n",
        "    target_size = (224,224),\n",
        "    batch_size = 4,\n",
        "    shuffle=True,\n",
        "    class_mode = 'categorical')"
      ],
      "metadata": {
        "colab": {
          "base_uri": "https://localhost:8080/"
        },
        "id": "ohGl3H5QC1KJ",
        "outputId": "7c70251c-7239-4c07-8dc1-d53e6e41ef86"
      },
      "execution_count": 4,
      "outputs": [
        {
          "output_type": "stream",
          "name": "stdout",
          "text": [
            "Found 2301 images belonging to 10 classes.\n",
            "Found 1025 images belonging to 10 classes.\n",
            "Found 0 images belonging to 0 classes.\n"
          ]
        }
      ]
    },
    {
      "cell_type": "markdown",
      "source": [
        "Xception Model"
      ],
      "metadata": {
        "id": "zx24OGvzOMqY"
      }
    },
    {
      "cell_type": "code",
      "source": [
        "model = applications.Xception(weights='imagenet', \n",
        "                              include_top=False, \n",
        "                              input_shape=(224, 224, 3))\n",
        "\n",
        "for layer in model.layers[:-5]:\n",
        "    layer.trainable = False\n",
        "\n",
        "x = model.output\n",
        "x = Flatten()(x)\n",
        "x = Dense(1024, activation=\"relu\")(x)\n",
        "x = Dropout(0.5)(x)\n",
        "predictions = Dense(10, activation=\"softmax\")(x)\n",
        "model_final = Model(model.input, predictions)\n",
        "\n",
        "model_final.compile(optimizers.RMSprop(lr=0.0001, decay=1e-6),loss='categorical_crossentropy',metrics=['accuracy'])\n"
      ],
      "metadata": {
        "id": "zvYME2sPOLnB",
        "outputId": "869312f0-990d-49ff-f81d-eb6b3459a4ff",
        "colab": {
          "base_uri": "https://localhost:8080/"
        }
      },
      "execution_count": 5,
      "outputs": [
        {
          "output_type": "stream",
          "name": "stdout",
          "text": [
            "Downloading data from https://storage.googleapis.com/tensorflow/keras-applications/xception/xception_weights_tf_dim_ordering_tf_kernels_notop.h5\n",
            "83683744/83683744 [==============================] - 1s 0us/step\n"
          ]
        },
        {
          "output_type": "stream",
          "name": "stderr",
          "text": [
            "/usr/local/lib/python3.7/dist-packages/keras/optimizers/optimizer_v2/rmsprop.py:135: UserWarning: The `lr` argument is deprecated, use `learning_rate` instead.\n",
            "  super(RMSprop, self).__init__(name, **kwargs)\n"
          ]
        }
      ]
    },
    {
      "cell_type": "markdown",
      "source": [
        "Xception\n"
      ],
      "metadata": {
        "id": "6qdDU9-qQfp6"
      }
    },
    {
      "cell_type": "code",
      "source": [
        "checkpoint = ModelCheckpoint(\"vgg16_1.h5\", monitor='val_loss', verbose=1, save_best_only=True, save_weights_only=False, mode='auto', period=1)\n",
        "early = EarlyStopping(monitor='val_loss', min_delta=0.0001, patience=7, verbose=2, mode='auto')\n",
        "hist = model_final.fit_generator(generator=train_generator,                   \n",
        "                                    steps_per_epoch=100,\n",
        "                                    validation_data=test_generator,                    \n",
        "                                    validation_steps=10,\n",
        "                                    epochs=10,\n",
        "                                    callbacks = [checkpoint, early],\n",
        "                                    verbose=2)"
      ],
      "metadata": {
        "id": "IOmqg4EDQjRk",
        "outputId": "93710b79-7152-4118-ee51-912f204f3ed2",
        "colab": {
          "base_uri": "https://localhost:8080/"
        }
      },
      "execution_count": 6,
      "outputs": [
        {
          "output_type": "stream",
          "name": "stderr",
          "text": [
            "WARNING:tensorflow:`period` argument is deprecated. Please use `save_freq` to specify the frequency in number of batches seen.\n",
            "/usr/local/lib/python3.7/dist-packages/ipykernel_launcher.py:9: UserWarning: `Model.fit_generator` is deprecated and will be removed in a future version. Please use `Model.fit`, which supports generators.\n",
            "  if __name__ == '__main__':\n"
          ]
        },
        {
          "output_type": "stream",
          "name": "stdout",
          "text": [
            "Epoch 1/10\n",
            "\n",
            "Epoch 1: val_loss improved from inf to 2.53568, saving model to vgg16_1.h5\n",
            "100/100 - 360s - loss: 3.2748 - accuracy: 0.1325 - val_loss: 2.5357 - val_accuracy: 0.1500 - 360s/epoch - 4s/step\n",
            "Epoch 2/10\n",
            "\n",
            "Epoch 2: val_loss improved from 2.53568 to 2.51633, saving model to vgg16_1.h5\n",
            "100/100 - 354s - loss: 2.5479 - accuracy: 0.1625 - val_loss: 2.5163 - val_accuracy: 0.1125 - 354s/epoch - 4s/step\n",
            "Epoch 3/10\n",
            "\n",
            "Epoch 3: val_loss improved from 2.51633 to 2.29078, saving model to vgg16_1.h5\n",
            "100/100 - 311s - loss: 2.4410 - accuracy: 0.1988 - val_loss: 2.2908 - val_accuracy: 0.2000 - 311s/epoch - 3s/step\n",
            "Epoch 4/10\n",
            "\n",
            "Epoch 4: val_loss improved from 2.29078 to 2.13941, saving model to vgg16_1.h5\n",
            "100/100 - 316s - loss: 2.3403 - accuracy: 0.2359 - val_loss: 2.1394 - val_accuracy: 0.2000 - 316s/epoch - 3s/step\n",
            "Epoch 5/10\n",
            "\n",
            "Epoch 5: val_loss did not improve from 2.13941\n",
            "100/100 - 306s - loss: 2.3232 - accuracy: 0.2698 - val_loss: 2.4220 - val_accuracy: 0.2000 - 306s/epoch - 3s/step\n",
            "Epoch 6/10\n",
            "\n",
            "Epoch 6: val_loss improved from 2.13941 to 2.01891, saving model to vgg16_1.h5\n",
            "100/100 - 313s - loss: 2.2177 - accuracy: 0.2925 - val_loss: 2.0189 - val_accuracy: 0.3500 - 313s/epoch - 3s/step\n",
            "Epoch 7/10\n",
            "\n",
            "Epoch 7: val_loss did not improve from 2.01891\n",
            "100/100 - 305s - loss: 2.2229 - accuracy: 0.2760 - val_loss: 2.1469 - val_accuracy: 0.1750 - 305s/epoch - 3s/step\n",
            "Epoch 8/10\n",
            "\n",
            "Epoch 8: val_loss did not improve from 2.01891\n",
            "100/100 - 308s - loss: 2.1746 - accuracy: 0.2775 - val_loss: 2.0692 - val_accuracy: 0.2875 - 308s/epoch - 3s/step\n",
            "Epoch 9/10\n",
            "\n",
            "Epoch 9: val_loss did not improve from 2.01891\n",
            "100/100 - 304s - loss: 2.0568 - accuracy: 0.3463 - val_loss: 2.0230 - val_accuracy: 0.3000 - 304s/epoch - 3s/step\n",
            "Epoch 10/10\n",
            "\n",
            "Epoch 10: val_loss did not improve from 2.01891\n",
            "100/100 - 301s - loss: 2.1069 - accuracy: 0.3300 - val_loss: 2.0487 - val_accuracy: 0.3000 - 301s/epoch - 3s/step\n"
          ]
        }
      ]
    },
    {
      "cell_type": "markdown",
      "source": [
        "Plot Xception"
      ],
      "metadata": {
        "id": "hrRU_VBtS3IH"
      }
    },
    {
      "cell_type": "code",
      "source": [
        "import matplotlib.pyplot as plt\n",
        "plt.plot(hist.history[\"loss\"])\n",
        "plt.plot(hist.history[\"accuracy\"])\n",
        "plt.plot(hist.history[\"val_loss\"])\n",
        "plt.plot(hist.history[\"val_accuracy\"])\n",
        "plt.legend([\"loss\", \"accuracy\", \"val_loss\", \"val_accuracy\"])\n",
        "plt.show()"
      ],
      "metadata": {
        "id": "5ac8fe9iS4af",
        "outputId": "ccbeee92-6f0d-4d64-9f4f-c19a9241a929",
        "colab": {
          "base_uri": "https://localhost:8080/",
          "height": 265
        }
      },
      "execution_count": 8,
      "outputs": [
        {
          "output_type": "display_data",
          "data": {
            "text/plain": [
              "<Figure size 432x288 with 1 Axes>"
            ],
            "image/png": "[encoded data removed]"
          },
          "metadata": {
            "needs_background": "light"
          }
        }
      ]
    }
  ]
}